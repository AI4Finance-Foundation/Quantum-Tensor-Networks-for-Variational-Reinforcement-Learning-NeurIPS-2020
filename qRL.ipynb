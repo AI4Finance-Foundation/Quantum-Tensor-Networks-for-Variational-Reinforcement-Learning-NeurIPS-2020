{
 "cells": [
  {
   "cell_type": "code",
   "execution_count": 2,
   "metadata": {},
   "outputs": [],
   "source": [
    "import os\n",
    "os.environ['http_proxy'] = \"http://127.0.0.1:12639\" \n",
    "os.environ['https_proxy'] = \"http://127.0.0.1:12639\""
   ]
  },
  {
   "cell_type": "code",
   "execution_count": 3,
   "metadata": {},
   "outputs": [],
   "source": [
    "import torch\n",
    "import torch.optim as optim\n",
    "\n",
    "import numpy as np\n",
    "import matplotlib.pyplot as plt\n",
    "import seaborn as sns\n",
    "import pkbar\n",
    "import time\n",
    "import random\n",
    "\n",
    "import tensorly as tl\n",
    "from tensorly.decomposition import matrix_product_state, parafac\n",
    "from tensorly.mps_tensor import mps_to_tensor\n",
    "from tensorly.base import unfold, fold\n",
    "from tensorly.kruskal_tensor import kruskal_to_tensor\n",
    "tl.set_backend('pytorch')\n",
    "\n",
    "import tensornetwork as tn\n",
    "from tensornetwork import contractors\n",
    "backend = 'pytorch'"
   ]
  },
  {
   "cell_type": "code",
   "execution_count": 4,
   "metadata": {},
   "outputs": [],
   "source": [
    "def random_mask(length, ratio=0.7):\n",
    "    keep = []\n",
    "    while len(keep) < int(ratio * length):\n",
    "        keep.append(random.randint(0, length - 1))\n",
    "        keep = list(set(keep))\n",
    "    return keep"
   ]
  },
  {
   "cell_type": "code",
   "execution_count": 5,
   "metadata": {},
   "outputs": [],
   "source": [
    "s, a = 25, 4\n",
    "\n",
    "# states: scan from left to right\n",
    "# actions: left, right, top, down\n",
    "\n",
    "R = torch.zeros((s, a)) \n",
    "for i in range(s):\n",
    "    if i % 5 == 0:\n",
    "        R[i, 0] = -1\n",
    "    if (i - 4) % 5 == 0:\n",
    "        R[i, 1] = -1\n",
    "    if i in range(5):\n",
    "        R[i, 2] = -1\n",
    "    if i in range(s - 5, s):\n",
    "        R[i, 3] = -1\n",
    "R[1, :] = 10\n",
    "R[3, :] = 5\n",
    "\n",
    "R_vec = R.reshape(s * a)"
   ]
  },
  {
   "cell_type": "code",
   "execution_count": 6,
   "metadata": {},
   "outputs": [],
   "source": [
    "# s_t, a, s_(t+1)\n",
    "P = torch.zeros((s, a, s)) \n",
    "for i in range(s):\n",
    "    if i % 5 == 0:\n",
    "        P[i, 0, i] = 1\n",
    "    if (i - 4) % 5 == 0:\n",
    "        P[i, 1, i] = 1\n",
    "    if i in range(5):\n",
    "        P[i, 2, i] = 1\n",
    "    if i in range(s - 5, s):\n",
    "        P[i, 3, i] = 1    \n",
    "\n",
    "    for j in range(s):\n",
    "        if j == i - 1:\n",
    "            P[i, 0, j] = 1\n",
    "        if j == i + 1:\n",
    "            P[i, 1, j] = 1\n",
    "        if j == i - 5:\n",
    "            P[i, 2, j] = 1\n",
    "        if j == i + 5:\n",
    "            P[i, 3, j] = 1\n",
    "    if i == 1:        \n",
    "        P[i, :, :] = 0\n",
    "        P[i, :, 21] = 1\n",
    "    if i == 3:\n",
    "        P[i, :, :] = 0\n",
    "        P[i, :, 13] = 1"
   ]
  },
  {
   "cell_type": "code",
   "execution_count": 7,
   "metadata": {},
   "outputs": [],
   "source": [
    "P_mat = torch.empty((s, a, s, a))\n",
    "for ss in range(s):\n",
    "    for i in range(a):\n",
    "        P_mat[:, :, ss, i] = P[:, :, ss]\n",
    "P_mat = P_mat.reshape(s * a, s * a)"
   ]
  },
  {
   "cell_type": "code",
   "execution_count": 8,
   "metadata": {},
   "outputs": [],
   "source": [
    "target = torch.tensor(\n",
    " [[21.97748529, 24.4194281, 21.97748529, 19.4194281, 17.47748529],\n",
    " [19.77973676, 21.97748529, 19.77973676, 17.80176308, 16.02158677],\n",
    " [17.80176308, 19.77973676, 17.80176308, 16.02158677, 14.4194281],\n",
    " [16.02158677, 17.80176308, 16.02158677, 14.4194281, 12.97748529],\n",
    " [14.4194281, 16.02158677, 14.4194281, 12.97748529, 11.67973676]])"
   ]
  },
  {
   "cell_type": "code",
   "execution_count": 9,
   "metadata": {},
   "outputs": [],
   "source": [
    "class K_Spin(object):\n",
    "    \n",
    "    def __init__(self, s_size, a_size, k, data=None):\n",
    "        '''\n",
    "        args: \n",
    "            s_size: the cardinality of the state space\n",
    "            a_size: the cardinality of the action space\n",
    "            k: the number of interacting states\n",
    "        '''\n",
    "        super(K_Spin, self).__init__()\n",
    "        self.k = k\n",
    "        self.s_size = s_size\n",
    "        self.a_size = a_size\n",
    "        \n",
    "        if data is not None:\n",
    "            self.leaf = data\n",
    "        else:\n",
    "            self.leaf = torch.randn((s_size * a_size, 1))\n",
    "            self.leaf.requires_grad = True\n",
    "                \n",
    "        self.data = self.softmax_by_state()\n",
    "        self.qubits = self.create_qubits()\n",
    "        self.outer_product_chain()\n",
    "\n",
    "    \n",
    "    def softmax_by_state(self):\n",
    "        '''\n",
    "        returns:\n",
    "            updated data tensor after doing a softmax operation\n",
    "            with regard to each of the states\n",
    "        '''\n",
    "        states = []\n",
    "        softmax = torch.nn.Softmax(dim=0)\n",
    "        for s in range(self.s_size):\n",
    "            state = self.leaf[s * self.a_size : (s+1) * self.a_size, :]\n",
    "            states.append(softmax(state))\n",
    "        \n",
    "        cat = torch.cat(states, dim=0) \n",
    "        return cat / torch.sum(cat)\n",
    "        \n",
    "        \n",
    "    def outer_product_chain(self):\n",
    "        '''\n",
    "        modifies:\n",
    "            connects the qubits into a tensor network that\n",
    "            computes the outer product when contracted\n",
    "        '''\n",
    "        if self.k == 1:\n",
    "            return\n",
    "        self.qubits[0][1] ^ self.qubits[1][1]\n",
    "        for k in range(1, self.k - 1):\n",
    "            self.qubits[k][2] ^ self.qubits[k + 1][1]\n",
    "\n",
    "\n",
    "    def create_qubits(self):\n",
    "        '''\n",
    "        returns:\n",
    "            a list of qubits (nodes) with suitable dimensions\n",
    "            (may contain dummy dimensions)\n",
    "        '''\n",
    "        qubits = []\n",
    "        backend = 'pytorch'\n",
    "        for i in range(self.k):\n",
    "            if i == 0 or i == self.k - 1:\n",
    "                q = tn.Node(self.data, backend=backend)\n",
    "            else:\n",
    "                q = tn.Node(self.data.unsqueeze(-1), backend=backend)\n",
    "            qubits.append(q)\n",
    "        return qubits"
   ]
  },
  {
   "cell_type": "code",
   "execution_count": 10,
   "metadata": {},
   "outputs": [],
   "source": [
    "def initialize_H(k, P_mat, R_vec, s, a, mask, gamma=0.9):\n",
    "    \n",
    "    h = torch.zeros([s * a] * k, dtype=torch.float32)\n",
    "    \n",
    "    pbar = pkbar.Pbar(name='initialize H, k='+str(k), target=(s * a))\n",
    "    for i in range(s * a):\n",
    "        pbar.update(i)\n",
    "        in_edge = torch.sum(P[..., i // a])\n",
    "        \n",
    "        if k == 1:\n",
    "            if i in mask:\n",
    "                h[i] = 1\n",
    "\n",
    "        if k == 2:\n",
    "            for j in range(s * a):\n",
    "                if i in mask and j in mask:\n",
    "                    h[i, j] = P_mat[i, j]\n",
    "                \n",
    "        if k == 3:\n",
    "            for j in range(s * a):\n",
    "                for l in range(s * a):\n",
    "                    if i in mask and j in mask and l in mask:\n",
    "                        h[i, j, l] = P_mat[i, j] * P_mat[j, l]\n",
    "                    \n",
    "        if k == 4:\n",
    "            for j in range(s * a):\n",
    "                for l in range(s * a):\n",
    "                    for m in range(s * a):\n",
    "                        if i in mask and j in mask and l in mask and m in mask:\n",
    "                            h[i, j, l, m] = P_mat[i, j] * P_mat[j, l] * P_mat[l, m]\n",
    "                        \n",
    "        h[i, ...] *= in_edge\n",
    "        \n",
    "    for n in range(s * a):\n",
    "        h[..., n] *= R_vec[n]\n",
    "        \n",
    "    h.requires_grad = False\n",
    "    return tn.Node(h * gamma ** (k - 1), backend=backend)"
   ]
  },
  {
   "cell_type": "code",
   "execution_count": 11,
   "metadata": {},
   "outputs": [],
   "source": [
    "def put_mps(tensors):\n",
    "    '''\n",
    "    returns\n",
    "        a set of tensor cores connected in MPS\n",
    "        a set of connected edges\n",
    "    '''\n",
    "    mps = []\n",
    "    for i in range(len(tensors)):\n",
    "        mps.append(tn.Node(tensors[i].detach().clone(), backend=backend))\n",
    "    \n",
    "    if len(tensors) == 1:\n",
    "        return mps, []\n",
    "    \n",
    "    connected_edges = []\n",
    "    conn = mps[0][1] ^ mps[1][0]\n",
    "    for k in range(1, len(tensors)-1):\n",
    "        conn = mps[k][2] ^ mps[k+1][0]\n",
    "        connected_edges.append(conn)\n",
    "\n",
    "    return mps, connected_edges\n",
    "\n",
    "\n",
    "def put_cp(factors):\n",
    "    '''\n",
    "    returns\n",
    "        a set of tensor cores connected in cp\n",
    "        a set of connected edges\n",
    "    '''\n",
    "    cp = []\n",
    "    for f in factors:\n",
    "        cp.append(tn.Node(f.detach().clone(), backend=backend))\n",
    "    \n",
    "    chi = factors[0].shape[1]\n",
    "    core = torch.zeros([chi] * len(factors))\n",
    "    for i in range(chi):\n",
    "        index = tuple([i] * len(factors))\n",
    "        core[index] = 1\n",
    "    core = tn.Node(core, backend=backend)\n",
    "    cp.append(core)\n",
    "    \n",
    "    connected_edges = []\n",
    "    for k in range(len(factors)):\n",
    "        conn = cp[k][1] ^ core[k]\n",
    "        connected_edges.append(conn)\n",
    "\n",
    "    return cp, connected_edges"
   ]
  },
  {
   "cell_type": "code",
   "execution_count": 17,
   "metadata": {},
   "outputs": [],
   "source": [
    "def fill_dims(tensor, dim):\n",
    "    N = tensor.shape[0]\n",
    "    order = len(tensor.shape)\n",
    "    if order == dim:\n",
    "        return tensor\n",
    "    pad = torch.zeros([N] * dim, dtype=torch.float32)\n",
    "    for i in range(N ** order):\n",
    "        index = np.unravel_index(i, tensor.shape)\n",
    "        pad[index] = tensor[index]      \n",
    "    return pad"
   ]
  },
  {
   "cell_type": "code",
   "execution_count": 173,
   "metadata": {},
   "outputs": [],
   "source": [
    "def build_networks(five_tuple, k, chi, mask_vec, mode='cp'):\n",
    "    \n",
    "    s, a, P, R, gamma = five_tuple\n",
    "    data = torch.zeros((s * a, 1), requires_grad=True)\n",
    "    H = torch.randn([s * a] * k, dtype=torch.float32)\n",
    "    for i in range(k):\n",
    "        Hi = initialize_H(i + 1, P, R, s, a, mask_vec, gamma=gamma)\n",
    "        H += fill_dims(Hi.get_tensor(), k)\n",
    "        \n",
    "    if mode == 'cp':\n",
    "        [core, factors], error = parafac(H, chi, n_iter_max=100, init='random', \n",
    "                                         mask=omega, return_errors=True)\n",
    "        combined_cores, _ = put_cp(factors)\n",
    "        \n",
    "    if mode == 'mps':\n",
    "        tensors = matrix_product_state(H, chi)\n",
    "        tensors[0] = tensors[0].squeeze(0)\n",
    "        tensors[-1] = tensors[-1].squeeze(-1)\n",
    "        combined_cores, _ = put_mps(tensors)\n",
    "        error = None\n",
    "    \n",
    "    if mode == 'full':\n",
    "        combined_cores = tn.Node(H, backend=backend)\n",
    "        \n",
    "    return combined_cores, data, error"
   ]
  },
  {
   "cell_type": "code",
   "execution_count": 175,
   "metadata": {},
   "outputs": [],
   "source": [
    "def variational_train(five_tuple, k, data, combined_cores, lr=0.02, epochs=int(1e4)):\n",
    "    energy_history = []\n",
    "    epochs = int(1e4)\n",
    "    Pbar = pkbar.Pbar(name='progress', target=epochs)\n",
    "    op = optim.SGD([data], lr=lr, momentum=0.9, weight_decay=5e-4)\n",
    "\n",
    "    for e in range(epochs):\n",
    "        op.zero_grad()\n",
    "\n",
    "        new_edges = []\n",
    "        new_cores = tn.replicate_nodes(combined_cores)\n",
    "        for j in range(len(combined_cores)):\n",
    "            edges = new_cores[j].get_all_dangling()\n",
    "            for edge in edges:\n",
    "                new_edges.append(edge)\n",
    "\n",
    "        spin = K_Spin(s, a, k, data=data)\n",
    "        for j in range(k):\n",
    "            new_edges[j] ^ spin.qubits[j][0]\n",
    "\n",
    "        energy = -contractors.branch(tn.reachable(new_cores[0]), nbranch=1).get_tensor()\n",
    "        energy.backward()\n",
    "        energy_history.append(energy)\n",
    "\n",
    "        op.step()\n",
    "        Pbar.update(e)\n",
    "        \n",
    "    return spin, energy_history"
   ]
  },
  {
   "cell_type": "code",
   "execution_count": 478,
   "metadata": {},
   "outputs": [],
   "source": [
    "def explore(Q, a, eps, ss):\n",
    "    choice = np.random.uniform()\n",
    "    if choice < eps:\n",
    "        return np.random.randint(a)\n",
    "    else:\n",
    "        return np.argmax(Q[ss])\n",
    "\n",
    "def Q_learning(five_tuple, lr=0.01, epochs=1000, obs=80):\n",
    "    Q = np.zeros((s, a))\n",
    "    ss = np.random.randint(s)\n",
    "    aa = np.random.randint(a)\n",
    "    seen = [(ss, aa)]\n",
    "    \n",
    "    for _ in range(epochs):    \n",
    "        new_s = np.argmax(P[ss, aa])\n",
    "        Q[ss, aa] += lr * (R[ss, aa] + gamma * np.max(Q[new_s, :]) - Q[ss, aa])\n",
    "        ss = new_s.item()\n",
    "        aa = explore(Q, a, 0.2, ss)\n",
    "        if len(set(seen)) >= obs:\n",
    "            while (ss, aa) not in seen:\n",
    "                ss = np.random.randint(s)\n",
    "                aa = np.random.randint(a)\n",
    "        seen.append((ss, aa))\n",
    "            \n",
    "    return Q"
   ]
  },
  {
   "cell_type": "code",
   "execution_count": 479,
   "metadata": {},
   "outputs": [
    {
     "data": {
      "image/png": "[encoded data removed]",
      "text/plain": [
       "<Figure size 432x288 with 2 Axes>"
      ]
     },
     "metadata": {
      "needs_background": "light"
     },
     "output_type": "display_data"
    }
   ],
   "source": [
    "Q = Q_learning(five_tuple)\n",
    "ax = sns.heatmap(Q, cmap=\"Blues\")\n",
    "plt.show()"
   ]
  },
  {
   "cell_type": "code",
   "execution_count": 480,
   "metadata": {},
   "outputs": [
    {
     "data": {
      "text/plain": [
       "tensor([[1., 1., 3., 0., 0.],\n",
       "        [2., 0., 0., 2., 0.],\n",
       "        [2., 0., 0., 0., 3.],\n",
       "        [1., 2., 0., 0., 0.],\n",
       "        [1., 2., 2., 3., 3.]])"
      ]
     },
     "execution_count": 480,
     "metadata": {},
     "output_type": "execute_result"
    }
   ],
   "source": [
    "policy = torch.empty(s)\n",
    "p = torch.tensor(Q)\n",
    "for i in range(s):\n",
    "    policy[i] = torch.argmax(p[i, :])\n",
    "policy.reshape(5, 5)"
   ]
  },
  {
   "cell_type": "code",
   "execution_count": 489,
   "metadata": {},
   "outputs": [],
   "source": [
    "k = 4\n",
    "s, a = 25, 4\n",
    "gamma = 0.95\n",
    "chi = 30\n",
    "props = []\n",
    "for i in range(0, 11):\n",
    "    props.append((0.1 * i) ** (1/3))\n",
    "five_tuple = s, a, P_mat, R_vec, gamma "
   ]
  },
  {
   "cell_type": "code",
   "execution_count": 490,
   "metadata": {},
   "outputs": [
    {
     "name": "stdout",
     "output_type": "stream",
     "text": [
      "initialize omega\n",
      "100/100  [==============================] - 452.2s\n"
     ]
    }
   ],
   "source": [
    "mask_vec = random_mask(s * a, 0.8)\n",
    "\n",
    "pbar = pkbar.Pbar(name='initialize omega', target=s * a)\n",
    "omega = torch.zeros([s * a] * k, dtype=torch.float32)\n",
    "for i in range(s * a):     \n",
    "    pbar.update(i)\n",
    "    for j in range(s * a):\n",
    "        for l in range(s * a):\n",
    "            for m in range(s * a):\n",
    "                if i in mask_vec and j in mask_vec and l in mask_vec and m in mask_vec:\n",
    "                    omega[i, j, l, m] = 1"
   ]
  },
  {
   "cell_type": "code",
   "execution_count": null,
   "metadata": {},
   "outputs": [
    {
     "name": "stdout",
     "output_type": "stream",
     "text": [
      "initialize H, k=1\n",
      "100/100  [==============================] - 0.1s\n",
      "initialize H, k=2\n",
      "100/100  [==============================] - 0.2s\n",
      "initialize H, k=3\n",
      "100/100  [==============================] - 8.5s\n",
      "initialize H, k=4\n",
      "100/100  [==============================] - 958.3s\n"
     ]
    }
   ],
   "source": [
    "cores, data, error = build_networks(five_tuple, k, chi, mask_vec)"
   ]
  },
  {
   "cell_type": "code",
   "execution_count": 483,
   "metadata": {},
   "outputs": [
    {
     "name": "stdout",
     "output_type": "stream",
     "text": [
      "progress\n",
      "10000/10000  [==============================] - 37.3s\n"
     ]
    }
   ],
   "source": [
    "spin, energy_history = variational_train(five_tuple, k, data, cores)"
   ]
  },
  {
   "cell_type": "code",
   "execution_count": 484,
   "metadata": {},
   "outputs": [
    {
     "data": {
      "text/plain": [
       "[<matplotlib.lines.Line2D at 0x1fb6afa7f88>]"
      ]
     },
     "execution_count": 484,
     "metadata": {},
     "output_type": "execute_result"
    },
    {
     "data": {
      "image/png": "[encoded data removed]",
      "text/plain": [
       "<Figure size 432x288 with 1 Axes>"
      ]
     },
     "metadata": {
      "needs_background": "light"
     },
     "output_type": "display_data"
    }
   ],
   "source": [
    "plt.plot(error)"
   ]
  },
  {
   "cell_type": "code",
   "execution_count": 485,
   "metadata": {},
   "outputs": [
    {
     "data": {
      "text/plain": [
       "[<matplotlib.lines.Line2D at 0x1fa82787e48>]"
      ]
     },
     "execution_count": 485,
     "metadata": {},
     "output_type": "execute_result"
    },
    {
     "data": {
      "image/png": "[encoded data removed]",
      "text/plain": [
       "<Figure size 432x288 with 1 Axes>"
      ]
     },
     "metadata": {
      "needs_background": "light"
     },
     "output_type": "display_data"
    }
   ],
   "source": [
    "plt.plot(energy_history)"
   ]
  },
  {
   "cell_type": "code",
   "execution_count": 486,
   "metadata": {},
   "outputs": [
    {
     "data": {
      "image/png": "[encoded data removed]",
      "text/plain": [
       "<Figure size 432x288 with 2 Axes>"
      ]
     },
     "metadata": {
      "needs_background": "light"
     },
     "output_type": "display_data"
    }
   ],
   "source": [
    "result = spin.data.reshape(s, a).detach().numpy() * 25\n",
    "ax = sns.heatmap(result, cmap=\"Blues\")\n",
    "plt.xlabel = 'States'\n",
    "plt.show()"
   ]
  },
  {
   "cell_type": "code",
   "execution_count": 487,
   "metadata": {},
   "outputs": [
    {
     "data": {
      "text/plain": [
       "tensor([[1., 2., 3., 1., 0.],\n",
       "        [2., 2., 2., 0., 3.],\n",
       "        [0., 1., 1., 1., 3.],\n",
       "        [1., 2., 1., 2., 3.],\n",
       "        [3., 2., 3., 1., 2.]])"
      ]
     },
     "execution_count": 487,
     "metadata": {},
     "output_type": "execute_result"
    }
   ],
   "source": [
    "policy = torch.empty(s)\n",
    "p = torch.tensor(result)\n",
    "for i in range(s):\n",
    "    policy[i] = torch.argmax(p[i, :])\n",
    "policy.reshape(5, 5)"
   ]
  },
  {
   "cell_type": "code",
   "execution_count": 272,
   "metadata": {},
   "outputs": [
    {
     "data": {
      "text/plain": [
       "<matplotlib.axes._subplots.AxesSubplot at 0x1fa044c4988>"
      ]
     },
     "execution_count": 272,
     "metadata": {},
     "output_type": "execute_result"
    },
    {
     "data": {
      "image/png": "[encoded data removed]",
      "text/plain": [
       "<Figure size 432x288 with 2 Axes>"
      ]
     },
     "metadata": {
      "needs_background": "light"
     },
     "output_type": "display_data"
    }
   ],
   "source": [
    "sns.heatmap(target, cmap='Blues')"
   ]
  },
  {
   "cell_type": "code",
   "execution_count": 131,
   "metadata": {},
   "outputs": [],
   "source": []
  }
 ],
 "metadata": {
  "kernelspec": {
   "display_name": "Python 3",
   "language": "python",
   "name": "python3"
  },
  "language_info": {
   "codemirror_mode": {
    "name": "ipython",
    "version": 3
   },
   "file_extension": ".py",
   "mimetype": "text/x-python",
   "name": "python",
   "nbconvert_exporter": "python",
   "pygments_lexer": "ipython3",
   "version": "3.7.6"
  }
 },
 "nbformat": 4,
 "nbformat_minor": 4
}
