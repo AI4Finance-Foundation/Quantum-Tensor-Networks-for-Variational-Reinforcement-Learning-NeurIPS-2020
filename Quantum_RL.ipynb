{
 "cells": [
  {
   "cell_type": "code",
   "execution_count": 7,
   "metadata": {},
   "outputs": [],
   "source": [
    "import torch\n",
    "import numpy as np\n",
    "import matplotlib.pyplot as plt\n",
    "import seaborn as sns\n",
    "import pkbar\n",
    "import time\n",
    "import tensornetwork as tn\n",
    "from tensornetwork import contractors\n",
    "backend = 'pytorch'"
   ]
  },
  {
   "cell_type": "code",
   "execution_count": 10,
   "metadata": {},
   "outputs": [],
   "source": [
    "class K_Spin(object):\n",
    "    \n",
    "    def __init__(self, s_size, a_size, k, data=None):\n",
    "        '''\n",
    "        args: \n",
    "            s_size: the cardinality of the state space\n",
    "            a_size: the cardinality of the action space\n",
    "            k: the number of interacting states\n",
    "        '''\n",
    "        super(K_Spin, self).__init__()\n",
    "        self.k = k\n",
    "        self.s_size = s_size\n",
    "        self.a_size = a_size\n",
    "        \n",
    "        if data is not None:\n",
    "            self.leaf = data.detach().clone()\n",
    "        else:\n",
    "            self.leaf = torch.randn((s_size * a_size, 1))\n",
    "        self.leaf.requires_grad = True\n",
    "        \n",
    "        self.data = self.softmax_by_state()\n",
    "        self.qubits = self.create_qubits()\n",
    "        self.outer_product_chain()\n",
    "\n",
    "    \n",
    "    def softmax_by_state(self):\n",
    "        '''\n",
    "        returns:\n",
    "            updated data tensor after doing a softmax operation\n",
    "            with regard to each of the states\n",
    "        '''\n",
    "        states = []\n",
    "        softmax = torch.nn.Softmax(dim=0)\n",
    "        for s in range(self.s_size):\n",
    "            state = self.leaf[s * self.a_size : (s+1) * self.a_size, :]\n",
    "            states.append(softmax(state))\n",
    "        return torch.cat(states, dim=0)\n",
    "        \n",
    "        \n",
    "    def outer_product_chain(self):\n",
    "        '''\n",
    "        modifies:\n",
    "            connects the qubits into a tensor network that\n",
    "            computes the outer product when contracted\n",
    "        '''\n",
    "        self.qubits[0][1] ^ self.qubits[1][1]\n",
    "        for k in range(1, self.k - 1):\n",
    "            self.qubits[k][2] ^ self.qubits[k + 1][1]\n",
    "\n",
    "\n",
    "    def create_qubits(self):\n",
    "        '''\n",
    "        returns:\n",
    "            a list of qubits (nodes) with suitable dimensions\n",
    "            (may contain dummy dimensions)\n",
    "        '''\n",
    "        qubits = []\n",
    "        backend = 'pytorch'\n",
    "        for i in range(self.k):\n",
    "            if i == 0 or i == self.k - 1:\n",
    "                q = tn.Node(self.data, backend=backend)\n",
    "            else:\n",
    "                q = tn.Node(self.data.unsqueeze(-1), backend=backend)\n",
    "            qubits.append(q)\n",
    "        return qubits"
   ]
  },
  {
   "cell_type": "code",
   "execution_count": 11,
   "metadata": {},
   "outputs": [],
   "source": [
    "def learning_rate(init, epoch):\n",
    "    return init * 0.9999 ** epoch"
   ]
  },
  {
   "cell_type": "code",
   "execution_count": 88,
   "metadata": {
    "scrolled": true
   },
   "outputs": [
    {
     "name": "stdout",
     "output_type": "stream",
     "text": [
      "progress\n",
      "5000/5000  [==============================] - 13.9s\n"
     ]
    }
   ],
   "source": [
    "epochs = int(5e3)\n",
    "k = 2\n",
    "s, a = 25, 4\n",
    "data = None\n",
    "energy_history = []\n",
    "lr = 0.001\n",
    "Pbar = pkbar.Pbar(name='progress', target=epochs)\n",
    "for e in range(epochs):\n",
    "    spins = K_Spin(s, a, k, data=data)\n",
    "    for i in range(k):\n",
    "        B[i] ^ spins.qubits[i][0]\n",
    "    \n",
    "    energy = contractors.branch(tn.reachable(B), nbranch=1).get_tensor()\n",
    "    energy.backward()\n",
    "    energy_history.append(-energy)\n",
    "\n",
    "    data = spins.leaf + spins.leaf.grad * learning_rate(lr, e)\n",
    "    Pbar.update(e)"
   ]
  },
  {
   "cell_type": "code",
   "execution_count": 89,
   "metadata": {},
   "outputs": [
    {
     "data": {
      "image/png": "[encoded data removed]",
      "text/plain": [
       "<Figure size 432x288 with 2 Axes>"
      ]
     },
     "metadata": {
      "needs_background": "light"
     },
     "output_type": "display_data"
    }
   ],
   "source": [
    "result = spins.data.reshape(s, a).detach().numpy()\n",
    "ax = sns.heatmap(result, cmap=\"Blues\")\n",
    "plt.xlabel = 'States'\n",
    "plt.show()"
   ]
  },
  {
   "cell_type": "code",
   "execution_count": 65,
   "metadata": {},
   "outputs": [],
   "source": [
    "target = torch.tensor(\n",
    " [[21.97748529, 24.4194281, 21.97748529, 19.4194281, 17.47748529],\n",
    " [19.77973676, 21.97748529, 19.77973676, 17.80176308, 16.02158677],\n",
    " [17.80176308, 19.77973676, 17.80176308, 16.02158677, 14.4194281],\n",
    " [16.02158677, 17.80176308, 16.02158677, 14.4194281, 12.97748529],\n",
    " [14.4194281, 16.02158677, 14.4194281, 12.97748529, 11.67973676]])"
   ]
  },
  {
   "cell_type": "code",
   "execution_count": 90,
   "metadata": {},
   "outputs": [],
   "source": [
    "policy = torch.empty(s)\n",
    "p = torch.tensor(result)\n",
    "for i in range(s):\n",
    "    policy[i] = torch.argmax(p[i, :])"
   ]
  },
  {
   "cell_type": "code",
   "execution_count": 96,
   "metadata": {},
   "outputs": [
    {
     "name": "stdout",
     "output_type": "stream",
     "text": [
      "tensor([21.9775, 24.4194, 21.9775, 19.4194, 17.4775, 19.7797, 21.9775, 19.7797,\n",
      "        17.8018, 16.0216, 17.8018, 19.7797, 17.8018, 16.0216, 14.4194, 16.0216,\n",
      "        17.8018, 16.0216, 14.4194, 12.9775, 14.4194, 16.0216, 14.4194, 12.9775,\n",
      "        11.6797])\n"
     ]
    }
   ],
   "source": [
    "optimal = torch.zeros(s)\n",
    "t = target.reshape(s)\n",
    "print(t)\n",
    "temp = torch.zeros(s)\n",
    "for i in range(s):\n",
    "    for j in range(s):\n",
    "        for act in range(a):\n",
    "            if P[i, act, j] == 1 and t[j] >= temp[i]:\n",
    "                optimal[i] = act\n",
    "                temp[i] = t[j]"
   ]
  },
  {
   "cell_type": "code",
   "execution_count": 97,
   "metadata": {},
   "outputs": [
    {
     "data": {
      "text/plain": [
       "tensor([[1., 3., 0., 3., 1.],\n",
       "        [1., 2., 0., 0., 1.],\n",
       "        [1., 2., 0., 0., 1.],\n",
       "        [1., 2., 0., 0., 1.],\n",
       "        [1., 2., 0., 0., 0.]])"
      ]
     },
     "execution_count": 97,
     "metadata": {},
     "output_type": "execute_result"
    }
   ],
   "source": [
    "optimal.reshape(5, 5)"
   ]
  },
  {
   "cell_type": "code",
   "execution_count": 98,
   "metadata": {},
   "outputs": [
    {
     "data": {
      "text/plain": [
       "tensor([[1., 2., 0., 0., 0.],\n",
       "        [2., 2., 3., 2., 2.],\n",
       "        [2., 2., 1., 2., 3.],\n",
       "        [3., 2., 2., 1., 2.],\n",
       "        [1., 1., 0., 0., 0.]])"
      ]
     },
     "execution_count": 98,
     "metadata": {},
     "output_type": "execute_result"
    }
   ],
   "source": [
    "policy.reshape(5, 5)"
   ]
  },
  {
   "cell_type": "code",
   "execution_count": 18,
   "metadata": {},
   "outputs": [
    {
     "data": {
      "text/plain": [
       "<matplotlib.axes._subplots.AxesSubplot at 0x1d8b05edd88>"
      ]
     },
     "execution_count": 18,
     "metadata": {},
     "output_type": "execute_result"
    },
    {
     "data": {
      "image/png": "[encoded data removed]",
      "text/plain": [
       "<Figure size 576x432 with 2 Axes>"
      ]
     },
     "metadata": {
      "needs_background": "light"
     },
     "output_type": "display_data"
    }
   ],
   "source": [
    "sns.heatmap(target, cmap='Blues')"
   ]
  },
  {
   "cell_type": "code",
   "execution_count": 79,
   "metadata": {},
   "outputs": [
    {
     "data": {
      "image/png": "[encoded data removed]",
      "text/plain": [
       "<Figure size 432x288 with 1 Axes>"
      ]
     },
     "metadata": {
      "needs_background": "light"
     },
     "output_type": "display_data"
    }
   ],
   "source": [
    "# with plt.style.context(['science', 'notebook']):\n",
    "plt.plot(energy_history[:5000])\n",
    "plt.title='Policy Iteration using K-Spin Hamiltonian'\n",
    "plt.xlabel='Number of iterations'\n",
    "plt.ylabel='Energy'\n",
    "\n",
    "plt.show()"
   ]
  },
  {
   "cell_type": "code",
   "execution_count": 3,
   "metadata": {},
   "outputs": [],
   "source": [
    "s, a = 25, 4\n",
    "\n",
    "# states: scan from left to right\n",
    "# actions: left, right, top, down\n",
    "\n",
    "R = torch.zeros((s, a)) \n",
    "for i in range(s):\n",
    "    if i % 5 == 0:\n",
    "        R[i, 0] = -1\n",
    "    if (i - 4) % 5 == 0:\n",
    "        R[i, 1] = -1\n",
    "    if i in range(5):\n",
    "        R[i, 2] = -1\n",
    "    if i in range(s - 5, s):\n",
    "        R[i, 3] = -1\n",
    "R[1, :] = 10\n",
    "R[3, :] = 5"
   ]
  },
  {
   "cell_type": "code",
   "execution_count": 92,
   "metadata": {},
   "outputs": [
    {
     "name": "stdout",
     "output_type": "stream",
     "text": [
      "initialize H\n",
      "100/100  [==============================] - 45.3s\n"
     ]
    }
   ],
   "source": [
    "b = torch.empty([s * a] * 3, dtype=torch.float32)\n",
    "# P[k // a, k % a, sk] \n",
    "# P[j // a, j % a, sk]\n",
    "gamma = 0.9\n",
    "pbar = pkbar.Pbar(name='initialize H', target=(s * a))\n",
    "for i in range(s * a):\n",
    "    pbar.update(i)\n",
    "    for j in range(s * a):\n",
    "        for k in range(s * a):\n",
    "            in_edge = torch.sum(P[..., i // a])\n",
    "            # print(in_edge)\n",
    "            J = P[s0, a0, i // a] * \\\n",
    "                P[i // a, i % a, j // a] * \\\n",
    "                P[j // a, j % a, k // a] * \\\n",
    "                R[k // a, k % a] * \\\n",
    "                in_edge\n",
    "            b[i, j, k] = gamma ** 3 * J"
   ]
  },
  {
   "cell_type": "code",
   "execution_count": 4,
   "metadata": {},
   "outputs": [],
   "source": [
    "# s_t, a, s_(t+1)\n",
    "P = torch.zeros((s, a, s)) \n",
    "for i in range(s):\n",
    "    if i % 5 == 0:\n",
    "        P[i, 0, i] = 1\n",
    "    if (i - 4) % 5 == 0:\n",
    "        P[i, 1, i] = 1\n",
    "    if i in range(5):\n",
    "        P[i, 2, i] = 1\n",
    "    if i in range(s - 5, s):\n",
    "        P[i, 3, i] = 1    \n",
    "        \n",
    "    for j in range(s):\n",
    "        if j == i - 1:\n",
    "            P[i, 0, j] = 1\n",
    "        if j == i + 1:\n",
    "            P[i, 1, j] = 1\n",
    "        if j == i - 5:\n",
    "            P[i, 2, j] = 1   \n",
    "        if j == i + 5:\n",
    "            P[i, 3, j] = 1\n",
    "    if i == 1:        \n",
    "        P[i, :, :] = 0\n",
    "        P[i, :, 21] = 1\n",
    "    if i == 3:\n",
    "        P[i, :, :] = 0\n",
    "        P[i, :, 13] = 1"
   ]
  },
  {
   "cell_type": "code",
   "execution_count": 13,
   "metadata": {},
   "outputs": [],
   "source": [
    "B = tn.Node(b, backend=backend)"
   ]
  },
  {
   "cell_type": "code",
   "execution_count": 336,
   "metadata": {},
   "outputs": [],
   "source": [
    "vecs1, diags, vecs2_h, _ = tn.split_node_full_svd(B, [B[0], B[1]], [B[2], B[3]], 30)"
   ]
  },
  {
   "cell_type": "code",
   "execution_count": 331,
   "metadata": {},
   "outputs": [
    {
     "data": {
      "text/plain": [
       "torch.Size([25, 25, 30])"
      ]
     },
     "execution_count": 331,
     "metadata": {},
     "output_type": "execute_result"
    }
   ],
   "source": [
    "vecs1.get_tensor().shape"
   ]
  }
 ],
 "metadata": {
  "kernelspec": {
   "display_name": "Python 3",
   "language": "python",
   "name": "python3"
  },
  "language_info": {
   "codemirror_mode": {
    "name": "ipython",
    "version": 3
   },
   "file_extension": ".py",
   "mimetype": "text/x-python",
   "name": "python",
   "nbconvert_exporter": "python",
   "pygments_lexer": "ipython3",
   "version": "3.7.6"
  }
 },
 "nbformat": 4,
 "nbformat_minor": 4
}
