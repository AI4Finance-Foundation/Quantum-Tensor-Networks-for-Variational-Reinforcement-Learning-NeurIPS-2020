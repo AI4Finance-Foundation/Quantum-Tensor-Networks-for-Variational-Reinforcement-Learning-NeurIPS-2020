{
 "cells": [
  {
   "cell_type": "code",
   "execution_count": 182,
   "metadata": {},
   "outputs": [],
   "source": [
    "import torch\n",
    "import torch.optim as optim\n",
    "import numpy as np\n",
    "import matplotlib.pyplot as plt\n",
    "import seaborn as sns\n",
    "import pkbar\n",
    "import time\n",
    "import tensornetwork as tn\n",
    "from tensornetwork import contractors\n",
    "backend = 'pytorch'"
   ]
  },
  {
   "cell_type": "code",
   "execution_count": 3,
   "metadata": {},
   "outputs": [],
   "source": [
    "s, a = 25, 4\n",
    "\n",
    "# states: scan from left to right\n",
    "# actions: left, right, top, down\n",
    "\n",
    "R = torch.zeros((s, a)) \n",
    "for i in range(s):\n",
    "    if i % 5 == 0:\n",
    "        R[i, 0] = -1\n",
    "    if (i - 4) % 5 == 0:\n",
    "        R[i, 1] = -1\n",
    "    if i in range(5):\n",
    "        R[i, 2] = -1\n",
    "    if i in range(s - 5, s):\n",
    "        R[i, 3] = -1\n",
    "R[1, :] = 10\n",
    "R[3, :] = 5"
   ]
  },
  {
   "cell_type": "code",
   "execution_count": 4,
   "metadata": {},
   "outputs": [],
   "source": [
    "# s_t, a, s_(t+1)\n",
    "P = torch.zeros((s, a, s)) \n",
    "for i in range(s):\n",
    "    if i % 5 == 0:\n",
    "        P[i, 0, i] = 1\n",
    "    if (i - 4) % 5 == 0:\n",
    "        P[i, 1, i] = 1\n",
    "    if i in range(5):\n",
    "        P[i, 2, i] = 1\n",
    "    if i in range(s - 5, s):\n",
    "        P[i, 3, i] = 1    \n",
    "        \n",
    "    for j in range(s):\n",
    "        if j == i - 1:\n",
    "            P[i, 0, j] = 1\n",
    "        if j == i + 1:\n",
    "            P[i, 1, j] = 1\n",
    "        if j == i - 5:\n",
    "            P[i, 2, j] = 1   \n",
    "        if j == i + 5:\n",
    "            P[i, 3, j] = 1\n",
    "    if i == 1:        \n",
    "        P[i, :, :] = 0\n",
    "        P[i, :, 21] = 1\n",
    "    if i == 3:\n",
    "        P[i, :, :] = 0\n",
    "        P[i, :, 13] = 1"
   ]
  },
  {
   "cell_type": "code",
   "execution_count": 65,
   "metadata": {},
   "outputs": [],
   "source": [
    "target = torch.tensor(\n",
    " [[21.97748529, 24.4194281, 21.97748529, 19.4194281, 17.47748529],\n",
    " [19.77973676, 21.97748529, 19.77973676, 17.80176308, 16.02158677],\n",
    " [17.80176308, 19.77973676, 17.80176308, 16.02158677, 14.4194281],\n",
    " [16.02158677, 17.80176308, 16.02158677, 14.4194281, 12.97748529],\n",
    " [14.4194281, 16.02158677, 14.4194281, 12.97748529, 11.67973676]])"
   ]
  },
  {
   "cell_type": "code",
   "execution_count": 341,
   "metadata": {},
   "outputs": [],
   "source": [
    "class K_Spin(object):\n",
    "    \n",
    "    def __init__(self, s_size, a_size, k, data=None):\n",
    "        '''\n",
    "        args: \n",
    "            s_size: the cardinality of the state space\n",
    "            a_size: the cardinality of the action space\n",
    "            k: the number of interacting states\n",
    "        '''\n",
    "        super(K_Spin, self).__init__()\n",
    "        self.k = k\n",
    "        self.s_size = s_size\n",
    "        self.a_size = a_size\n",
    "        \n",
    "        if data is not None:\n",
    "            self.leaf = data\n",
    "        else:\n",
    "            self.leaf = torch.randn((s_size * a_size, 1))\n",
    "            self.leaf.requires_grad = True\n",
    "        \n",
    "        self.data = self.softmax_by_state()\n",
    "        self.qubits = self.create_qubits()\n",
    "        self.outer_product_chain()\n",
    "\n",
    "    \n",
    "    def softmax_by_state(self):\n",
    "        '''\n",
    "        returns:\n",
    "            updated data tensor after doing a softmax operation\n",
    "            with regard to each of the states\n",
    "        '''\n",
    "        states = []\n",
    "        softmax = torch.nn.Softmax(dim=0)\n",
    "        for s in range(self.s_size):\n",
    "            state = self.leaf[s * self.a_size : (s+1) * self.a_size, :]\n",
    "            states.append(softmax(state))\n",
    "        return torch.cat(states, dim=0)\n",
    "        \n",
    "        \n",
    "    def outer_product_chain(self):\n",
    "        '''\n",
    "        modifies:\n",
    "            connects the qubits into a tensor network that\n",
    "            computes the outer product when contracted\n",
    "        '''\n",
    "        if self.k == 1:\n",
    "            return\n",
    "        self.qubits[0][1] ^ self.qubits[1][1]\n",
    "        for k in range(1, self.k - 1):\n",
    "            self.qubits[k][2] ^ self.qubits[k + 1][1]\n",
    "\n",
    "\n",
    "    def create_qubits(self):\n",
    "        '''\n",
    "        returns:\n",
    "            a list of qubits (nodes) with suitable dimensions\n",
    "            (may contain dummy dimensions)\n",
    "        '''\n",
    "        qubits = []\n",
    "        backend = 'pytorch'\n",
    "        for i in range(self.k):\n",
    "            if i == 0 or i == self.k - 1:\n",
    "                q = tn.Node(self.data, backend=backend)\n",
    "            else:\n",
    "                q = tn.Node(self.data.unsqueeze(-1), backend=backend)\n",
    "            qubits.append(q)\n",
    "        return qubits"
   ]
  },
  {
   "cell_type": "code",
   "execution_count": 451,
   "metadata": {},
   "outputs": [],
   "source": [
    "def initialize_H(k, P, R, s, a, gamma=0.9):\n",
    "    h = torch.empty([s * a] * k, dtype=torch.float32)\n",
    "    \n",
    "    pbar = pkbar.Pbar(name='initialize H, k='+str(k), target=(s * a))\n",
    "    for i in range(s * a):\n",
    "        pbar.update(i)\n",
    "        in_edge = torch.sum(P[..., i // a])\n",
    "\n",
    "        if k == 1:\n",
    "            J = R[i // a, i % a] * in_edge\n",
    "            h[i] = gamma ** k * J\n",
    "\n",
    "        if k == 2:\n",
    "            for j in range(s * a):\n",
    "                J = P[i // a, i % a, j // a] * R[j // a, j % a] * in_edge\n",
    "                h[i, j] = gamma ** k * J\n",
    "\n",
    "        if k == 3:\n",
    "            for j in range(s * a):\n",
    "                for l in range(s * a):\n",
    "                    J = P[i // a, i % a, j // a] * \\\n",
    "                        P[j // a, j % a, l // a] * \\\n",
    "                        R[l // a, l % a] * \\\n",
    "                        in_edge\n",
    "                    h[i, j, l] = gamma ** k * J\n",
    "\n",
    "    return tn.Node(h, backend=backend)"
   ]
  },
  {
   "cell_type": "code",
   "execution_count": 630,
   "metadata": {},
   "outputs": [],
   "source": [
    "def build_root(H, chi=10):\n",
    "    \n",
    "    rank = H.get_rank()\n",
    "    if rank == 1:\n",
    "        return [H]\n",
    "    \n",
    "    l_edges, r_edges = [], []\n",
    "    for r in range(rank // 2):\n",
    "        l_edges.append(H[r])\n",
    "    for r in range(rank // 2, H.get_rank()):\n",
    "        r_edges.append(H[r])\n",
    "        \n",
    "    l_tree, root, r_tree, _ = tn.split_node_full_svd(H, l_edges, r_edges, chi)\n",
    "    return [root, l_tree, r_tree]"
   ]
  },
  {
   "cell_type": "code",
   "execution_count": 642,
   "metadata": {},
   "outputs": [
    {
     "name": "stdout",
     "output_type": "stream",
     "text": [
      "initialize H, k=1\n",
      "100/100  [==============================] - 0.1s\n",
      "initialize H, k=2\n",
      "100/100  [==============================] - 0.4s\n",
      "initialize H, k=3\n",
      "100/100  [==============================] - 30.6s\n"
     ]
    }
   ],
   "source": [
    "k = 3\n",
    "s, a = 25, 4\n",
    "lr = 0.00001\n",
    "\n",
    "data = torch.randn((s * a, 1), requires_grad=True)\n",
    "H = []\n",
    "H_core = []\n",
    "for i in range(k):\n",
    "    H.append(initialize_H(i + 1, P, R, s, a, gamma=0.95))\n",
    "    this_core = build_root(H[i])\n",
    "    H_core.append(this_core)"
   ]
  },
  {
   "cell_type": "code",
   "execution_count": 643,
   "metadata": {
    "scrolled": true
   },
   "outputs": [
    {
     "name": "stdout",
     "output_type": "stream",
     "text": [
      "progress\n",
      "20000/20000  [==============================] - 343.3s\n"
     ]
    }
   ],
   "source": [
    "energy_history = []\n",
    "epochs = int(2e4)\n",
    "Pbar = pkbar.Pbar(name='progress', target=epochs)\n",
    "\n",
    "op = optim.SGD([data], lr=lr, momentum=0.9, weight_decay=5e-4)\n",
    "for e in range(epochs):\n",
    "    spins = []\n",
    "    core = []\n",
    "    edge = []\n",
    "    energy = 0\n",
    "    op.zero_grad()\n",
    "    \n",
    "    for i in range(k):\n",
    "        core.append(tn.replicate_nodes(H_core[i]))\n",
    "        edge.append([])\n",
    "        for j in range(len(core[i])):\n",
    "            edge[i] += core[i][j].get_all_dangling()\n",
    "    \n",
    "    for i in range(k):\n",
    "        spins.append(K_Spin(s, a, i + 1, data=data))\n",
    "        for j in range(i + 1):\n",
    "            edge[i][j] ^ spins[i].qubits[j][0]\n",
    "            \n",
    "    for i in range(k):\n",
    "        energy -= contractors.branch(tn.reachable(core[i]), nbranch=1).get_tensor()\n",
    "    energy.backward()\n",
    "    energy_history.append(energy)\n",
    "    \n",
    "    op.step()\n",
    "    Pbar.update(e)"
   ]
  },
  {
   "cell_type": "code",
   "execution_count": 644,
   "metadata": {},
   "outputs": [
    {
     "data": {
      "image/png": "[encoded data removed]",
      "text/plain": [
       "<Figure size 432x288 with 1 Axes>"
      ]
     },
     "metadata": {
      "needs_background": "light"
     },
     "output_type": "display_data"
    }
   ],
   "source": [
    "# with plt.style.context(['science', 'notebook']):\n",
    "plt.plot(energy_history[:])\n",
    "plt.title='Policy Iteration using K-Spin Hamiltonian'\n",
    "plt.xlabel='Number of iterations'\n",
    "plt.ylabel='Energy'\n",
    "\n",
    "plt.show()"
   ]
  },
  {
   "cell_type": "code",
   "execution_count": 645,
   "metadata": {},
   "outputs": [
    {
     "data": {
      "image/png": "[encoded data removed]",
      "text/plain": [
       "<Figure size 432x288 with 2 Axes>"
      ]
     },
     "metadata": {
      "needs_background": "light"
     },
     "output_type": "display_data"
    }
   ],
   "source": [
    "result = np.zeros((s, a))\n",
    "for i in range(k):\n",
    "    result += spins[i].data.reshape(s, a).detach().numpy()\n",
    "ax = sns.heatmap(result, cmap=\"Blues\")\n",
    "plt.xlabel = 'States'\n",
    "plt.show()"
   ]
  },
  {
   "cell_type": "code",
   "execution_count": 646,
   "metadata": {},
   "outputs": [],
   "source": [
    "policy = torch.empty(s)\n",
    "p = torch.tensor(result)\n",
    "for i in range(s):\n",
    "    policy[i] = torch.argmax(p[i, :])"
   ]
  },
  {
   "cell_type": "code",
   "execution_count": 647,
   "metadata": {},
   "outputs": [
    {
     "data": {
      "text/plain": [
       "tensor([[1., 1., 0., 2., 0.],\n",
       "        [2., 2., 2., 2., 0.],\n",
       "        [2., 2., 2., 2., 2.],\n",
       "        [1., 2., 0., 0., 2.],\n",
       "        [1., 1., 1., 2., 0.]])"
      ]
     },
     "execution_count": 647,
     "metadata": {},
     "output_type": "execute_result"
    }
   ],
   "source": [
    "policy.reshape(5, 5)"
   ]
  },
  {
   "cell_type": "code",
   "execution_count": 626,
   "metadata": {},
   "outputs": [
    {
     "data": {
      "text/plain": [
       "<matplotlib.axes._subplots.AxesSubplot at 0x1a2ba23ed0>"
      ]
     },
     "execution_count": 626,
     "metadata": {},
     "output_type": "execute_result"
    },
    {
     "data": {
      "image/png": "[encoded data removed]",
      "text/plain": [
       "<Figure size 432x288 with 2 Axes>"
      ]
     },
     "metadata": {
      "needs_background": "light"
     },
     "output_type": "display_data"
    }
   ],
   "source": [
    "sns.heatmap(target, cmap='Blues')"
   ]
  },
  {
   "cell_type": "code",
   "execution_count": null,
   "metadata": {},
   "outputs": [],
   "source": []
  }
 ],
 "metadata": {
  "kernelspec": {
   "display_name": "Python 3",
   "language": "python",
   "name": "python3"
  },
  "language_info": {
   "codemirror_mode": {
    "name": "ipython",
    "version": 3
   },
   "file_extension": ".py",
   "mimetype": "text/x-python",
   "name": "python",
   "nbconvert_exporter": "python",
   "pygments_lexer": "ipython3",
   "version": "3.7.6"
  }
 },
 "nbformat": 4,
 "nbformat_minor": 4
}
