{
 "cells": [
  {
   "cell_type": "code",
   "execution_count": 631,
   "metadata": {},
   "outputs": [
    {
     "name": "stderr",
     "output_type": "stream",
     "text": [
      "Using pytorch backend.\n"
     ]
    }
   ],
   "source": [
    "import torch\n",
    "import torch.optim as optim\n",
    "\n",
    "import numpy as np\n",
    "import matplotlib.pyplot as plt\n",
    "import seaborn as sns\n",
    "import pkbar\n",
    "import time\n",
    "import random\n",
    "\n",
    "import tensorly as tl\n",
    "from tensorly.decomposition import matrix_product_state\n",
    "from tensorly.mps_tensor import mps_to_tensor\n",
    "tl.set_backend('pytorch')\n",
    "\n",
    "import tensornetwork as tn\n",
    "from tensornetwork import contractors\n",
    "backend = 'pytorch'"
   ]
  },
  {
   "cell_type": "code",
   "execution_count": 767,
   "metadata": {},
   "outputs": [],
   "source": [
    "def random_mask(length, ratio=0.7):\n",
    "    keep = []\n",
    "    while len(keep) < int(ratio * length):\n",
    "        keep.append(random.randint(0, length - 1))\n",
    "        keep = list(set(keep))\n",
    "    return keep"
   ]
  },
  {
   "cell_type": "code",
   "execution_count": 769,
   "metadata": {},
   "outputs": [],
   "source": [
    "s, a = 25, 4\n",
    "\n",
    "# states: scan from left to right\n",
    "# actions: left, right, top, down\n",
    "\n",
    "R = torch.zeros((s, a)) \n",
    "for i in range(s):\n",
    "    if i % 5 == 0:\n",
    "        R[i, 0] = -1\n",
    "    if (i - 4) % 5 == 0:\n",
    "        R[i, 1] = -1\n",
    "    if i in range(5):\n",
    "        R[i, 2] = -1\n",
    "    if i in range(s - 5, s):\n",
    "        R[i, 3] = -1\n",
    "R[1, :] = 10\n",
    "R[3, :] = 5\n",
    "\n",
    "R_vec = R.reshape(s * a)"
   ]
  },
  {
   "cell_type": "code",
   "execution_count": 770,
   "metadata": {},
   "outputs": [],
   "source": [
    "# s_t, a, s_(t+1)\n",
    "P = torch.zeros((s, a, s)) \n",
    "for i in range(s):\n",
    "    if i % 5 == 0:\n",
    "        P[i, 0, i] = 1\n",
    "    if (i - 4) % 5 == 0:\n",
    "        P[i, 1, i] = 1\n",
    "    if i in range(5):\n",
    "        P[i, 2, i] = 1\n",
    "    if i in range(s - 5, s):\n",
    "        P[i, 3, i] = 1    \n",
    "\n",
    "    for j in range(s):\n",
    "        if j == i - 1:\n",
    "            P[i, 0, j] = 1\n",
    "        if j == i + 1:\n",
    "            P[i, 1, j] = 1\n",
    "        if j == i - 5:\n",
    "            P[i, 2, j] = 1\n",
    "        if j == i + 5:\n",
    "            P[i, 3, j] = 1\n",
    "    if i == 1:        \n",
    "        P[i, :, :] = 0\n",
    "        P[i, :, 21] = 1\n",
    "    if i == 3:\n",
    "        P[i, :, :] = 0\n",
    "        P[i, :, 13] = 1"
   ]
  },
  {
   "cell_type": "code",
   "execution_count": 771,
   "metadata": {},
   "outputs": [],
   "source": [
    "P_mat = torch.empty((s, a, s, a))\n",
    "for ss in range(s):\n",
    "    for i in range(a):\n",
    "        P_mat[:, :, ss, i] = P[:, :, ss]\n",
    "P_mat = P_mat.reshape(s * a, s * a)"
   ]
  },
  {
   "cell_type": "code",
   "execution_count": 772,
   "metadata": {},
   "outputs": [],
   "source": [
    "target = torch.tensor(\n",
    " [[21.97748529, 24.4194281, 21.97748529, 19.4194281, 17.47748529],\n",
    " [19.77973676, 21.97748529, 19.77973676, 17.80176308, 16.02158677],\n",
    " [17.80176308, 19.77973676, 17.80176308, 16.02158677, 14.4194281],\n",
    " [16.02158677, 17.80176308, 16.02158677, 14.4194281, 12.97748529],\n",
    " [14.4194281, 16.02158677, 14.4194281, 12.97748529, 11.67973676]])"
   ]
  },
  {
   "cell_type": "code",
   "execution_count": 1071,
   "metadata": {},
   "outputs": [],
   "source": [
    "class K_Spin(object):\n",
    "    \n",
    "    def __init__(self, s_size, a_size, k, data=None):\n",
    "        '''\n",
    "        args: \n",
    "            s_size: the cardinality of the state space\n",
    "            a_size: the cardinality of the action space\n",
    "            k: the number of interacting states\n",
    "        '''\n",
    "        super(K_Spin, self).__init__()\n",
    "        self.k = k\n",
    "        self.s_size = s_size\n",
    "        self.a_size = a_size\n",
    "        \n",
    "        if data is not None:\n",
    "            self.leaf = data\n",
    "        else:\n",
    "            self.leaf = torch.randn((s_size * a_size, 1))\n",
    "            self.leaf.requires_grad = True\n",
    "                \n",
    "        self.data = self.softmax_by_state()\n",
    "        self.qubits = self.create_qubits()\n",
    "        self.outer_product_chain()\n",
    "\n",
    "    \n",
    "    def softmax_by_state(self):\n",
    "        '''\n",
    "        returns:\n",
    "            updated data tensor after doing a softmax operation\n",
    "            with regard to each of the states\n",
    "        '''\n",
    "        states = []\n",
    "        softmax = torch.nn.Softmax(dim=0)\n",
    "        for s in range(self.s_size):\n",
    "            state = self.leaf[s * self.a_size : (s+1) * self.a_size, :]\n",
    "            states.append(softmax(state))\n",
    "        return torch.cat(states, dim=0)\n",
    "        \n",
    "        \n",
    "    def outer_product_chain(self):\n",
    "        '''\n",
    "        modifies:\n",
    "            connects the qubits into a tensor network that\n",
    "            computes the outer product when contracted\n",
    "        '''\n",
    "        if self.k == 1:\n",
    "            return\n",
    "        self.qubits[0][1] ^ self.qubits[1][1]\n",
    "        for k in range(1, self.k - 1):\n",
    "            self.qubits[k][2] ^ self.qubits[k + 1][1]\n",
    "\n",
    "\n",
    "    def create_qubits(self):\n",
    "        '''\n",
    "        returns:\n",
    "            a list of qubits (nodes) with suitable dimensions\n",
    "            (may contain dummy dimensions)\n",
    "        '''\n",
    "        qubits = []\n",
    "        backend = 'pytorch'\n",
    "        for i in range(self.k):\n",
    "            if i == 0 or i == self.k - 1:\n",
    "                q = tn.Node(self.data, backend=backend)\n",
    "            else:\n",
    "                q = tn.Node(self.data.unsqueeze(-1), backend=backend)\n",
    "            qubits.append(q)\n",
    "        return qubits"
   ]
  },
  {
   "cell_type": "code",
   "execution_count": 1081,
   "metadata": {},
   "outputs": [],
   "source": [
    "def initialize_H(k, P, R, s, a, mask, gamma=0.9):\n",
    "    \n",
    "    h = torch.zeros([s * a] * k, dtype=torch.float32)\n",
    "    \n",
    "    pbar = pkbar.Pbar(name='initialize H, k='+str(k), target=(s * a))\n",
    "    for i in range(s * a):\n",
    "        pbar.update(i)\n",
    "        in_edge = torch.sum(P[..., i // a])\n",
    "        \n",
    "        if k == 1:\n",
    "            if i in mask:\n",
    "                h[i] = 1\n",
    "\n",
    "        if k == 2:\n",
    "            for j in range(s * a):\n",
    "                if i in mask and j in mask:\n",
    "                    h[i, j] = P_mat[i, j]\n",
    "                \n",
    "        if k == 3:\n",
    "            for j in range(s * a):\n",
    "                for l in range(s * a):\n",
    "                    if i in mask and j in mask and l in mask:\n",
    "                        h[i, j, l] = P_mat[i, j] * P_mat[j, l]\n",
    "                    \n",
    "        if k == 4:\n",
    "            for j in range(s * a):\n",
    "                for l in range(s * a):\n",
    "                    for m in range(s * a):\n",
    "                        if i in mask and j in mask and l in mask and m in mask:\n",
    "                            h[i, j, l, m] = P_mat[i, j] * P_mat[j, l] * P_mat[l, m]\n",
    "                        \n",
    "        h[i, ...] *= in_edge\n",
    "        \n",
    "    for n in range(s * a):\n",
    "        h[..., n] *= R_vec[n]\n",
    "        \n",
    "    h.requires_grad = False\n",
    "    return tn.Node(h * gamma ** (k - 1), backend=backend)"
   ]
  },
  {
   "cell_type": "code",
   "execution_count": 1082,
   "metadata": {},
   "outputs": [],
   "source": [
    "def block(*dimensions):\n",
    "    ''' \n",
    "    returns:\n",
    "        a new matrix for the MPS with random numbers from 0 to 1 \n",
    "    '''\n",
    "    size = tuple([x for x in dimensions])\n",
    "    return torch.randn(size)\n",
    "\n",
    "\n",
    "def random_mps(rank, dim, bond_dim=20):\n",
    "    '''\n",
    "    returns\n",
    "        a set of randomly initialized tensor cores connected in MPS\n",
    "        a set of connected edges\n",
    "    '''\n",
    "    if rank == 1:\n",
    "        return [tn.Node(block(dim), backend=backend)], []\n",
    "\n",
    "    head = [tn.Node(block(dim, bond_dim), backend=backend)]\n",
    "    mid = [tn.Node(block(bond_dim, dim, bond_dim), backend=backend) for _ in range(rank-2)]\n",
    "    tail = [tn.Node(block(bond_dim, dim), backend=backend)]\n",
    "\n",
    "    mps = head + mid + tail\n",
    "    \n",
    "    # connect edges to build mps\n",
    "    connected_edges=[]\n",
    "    conn = mps[0][1] ^ mps[1][0]\n",
    "    for k in range(1, rank-1):\n",
    "        conn = mps[k][2] ^ mps[k+1][0]\n",
    "        connected_edges.append(conn)\n",
    "\n",
    "    return mps, connected_edges\n",
    "\n",
    "\n",
    "def put_mps(tensors):\n",
    "    '''\n",
    "    returns\n",
    "        a set of tensor cores connected in MPS\n",
    "        a set of connected edges\n",
    "    '''\n",
    "    mps = []\n",
    "    for i in range(len(tensors)):\n",
    "        mps.append(tn.Node(tensors[i].detach().clone(), backend=backend))\n",
    "    \n",
    "    if len(tensors) == 1:\n",
    "        return mps, []\n",
    "    \n",
    "    connected_edges=[]\n",
    "    conn = mps[0][1] ^ mps[1][0]\n",
    "    for k in range(1, len(tensors)-1):\n",
    "        conn = mps[k][2] ^ mps[k+1][0]\n",
    "        connected_edges.append(conn)\n",
    "\n",
    "    return mps, connected_edges"
   ]
  },
  {
   "cell_type": "code",
   "execution_count": 1083,
   "metadata": {},
   "outputs": [],
   "source": [
    "def tensor_als(mps, target, omega, lr=0.000001, outer_epochs=10, epochs=10000):\n",
    "    criterion = torch.nn.MSELoss()\n",
    "    #for out_e in range(outer_epochs):\n",
    "        #for i in range(len(mps)):\n",
    "    op = optim.SGD(mps, lr=lr, momentum=0.9, weight_decay=5e-4)\n",
    "    for e in range(epochs):\n",
    "        op.zero_grad()\n",
    "        loss = criterion(omega * mps_to_tensor(mps), omega * target)\n",
    "        loss.backward()\n",
    "        print(loss)\n",
    "        op.step()\n",
    "    return mps"
   ]
  },
  {
   "cell_type": "code",
   "execution_count": 1075,
   "metadata": {},
   "outputs": [],
   "source": [
    "def fill_dims(tensor, dim):\n",
    "    N = tensor.shape[0]\n",
    "    order = len(tensor.shape)\n",
    "    if order == dim:\n",
    "        return tensor\n",
    "    pad = torch.zeros([N] * dim, dtype=torch.float32)\n",
    "    for i in range(N ** order):\n",
    "        index = np.unravel_index(i, tensor.shape)\n",
    "        pad[index] = tensor[index]      \n",
    "    return pad"
   ]
  },
  {
   "cell_type": "code",
   "execution_count": 1111,
   "metadata": {},
   "outputs": [],
   "source": [
    "k = 3\n",
    "s, a = 25, 4\n",
    "chi = 10\n",
    "mask_vec = random_mask(100, 0.5)\n",
    "\n",
    "omega = torch.zeros([s * a] * k, dtype=torch.float32)\n",
    "for i in range(s * a):     \n",
    "    for j in range(s * a):\n",
    "        for l in range(s * a):\n",
    "            if i in mask_vec and j in mask_vec and l in mask_vec:\n",
    "                omega[i, j, l] = 1"
   ]
  },
  {
   "cell_type": "code",
   "execution_count": 1112,
   "metadata": {},
   "outputs": [
    {
     "name": "stdout",
     "output_type": "stream",
     "text": [
      "initialize H, k=1\n",
      "100/100  [==============================] - 0.1s\n",
      "initialize H, k=2\n",
      "100/100  [==============================] - 0.1s\n",
      "initialize H, k=3\n",
      "100/100  [==============================] - 3.0s\n"
     ]
    }
   ],
   "source": [
    "mode = 'full'#'combined_TT' \n",
    "data = torch.randn((s * a, 1), requires_grad=True)\n",
    "    \n",
    "H = []\n",
    "H_core = []\n",
    "\n",
    "if mode == 'full':\n",
    "    for i in range(k):\n",
    "        H.append(initialize_H(i + 1, P, R, s, a, mask_vec, gamma=0.975))\n",
    "        H_core.append([H[i]])\n",
    "    \n",
    "if mode == 'combined_TT':\n",
    "    tensors = [torch.randn(1, s * a, chi), \n",
    "               torch.randn(chi, s * a, chi),#matrix_product_state(H, chi)\n",
    "               torch.randn(chi, s * a, 1)]\n",
    "\n",
    "    for t in tensors:\n",
    "        t.requires_grad = True\n",
    "\n",
    "    tensors = tensor_als(tensors, H, omega, 1e5)\n",
    "    tensors[0] = tensors[0].squeeze(0)\n",
    "    tensors[-1] = tensors[-1].squeeze(-1)\n",
    "    \n",
    "    combined_cores, combined_edges = put_mps(tensors)"
   ]
  },
  {
   "cell_type": "code",
   "execution_count": 1113,
   "metadata": {},
   "outputs": [
    {
     "name": "stdout",
     "output_type": "stream",
     "text": [
      "progress\n",
      "30000/30000  [==============================] - 245.1s\n"
     ]
    }
   ],
   "source": [
    "lr = 0.00001\n",
    "energy_history = []\n",
    "epochs = int(3e4)\n",
    "Pbar = pkbar.Pbar(name='progress', target=epochs)\n",
    "\n",
    "op = optim.SGD([data], lr=lr, momentum=0.9, weight_decay=5e-4)\n",
    "for e in range(epochs):\n",
    "    spins = []\n",
    "    core = []\n",
    "    edge = []\n",
    "    energy = 0\n",
    "    op.zero_grad()\n",
    "    \n",
    "    for i in range(k):\n",
    "        core.append(tn.replicate_nodes(H_core[i]))\n",
    "        edge.append([])\n",
    "        for j in range(len(core[i])):\n",
    "            edge[i] += core[i][j].get_all_dangling()\n",
    "    \n",
    "    for i in range(k):\n",
    "        spins.append(K_Spin(s, a, i + 1, data=data))\n",
    "        for j in range(i + 1):\n",
    "            edge[i][j] ^ spins[i].qubits[j][0]\n",
    "            \n",
    "    for i in range(k):\n",
    "        energy -= contractors.branch(tn.reachable(core[i]), nbranch=1).get_tensor()\n",
    "    energy.backward()\n",
    "    energy_history.append(energy)\n",
    "    \n",
    "    op.step()\n",
    "    Pbar.update(e)"
   ]
  },
  {
   "cell_type": "code",
   "execution_count": 1114,
   "metadata": {},
   "outputs": [
    {
     "data": {
      "image/png": "[encoded data removed]",
      "text/plain": [
       "<Figure size 432x288 with 1 Axes>"
      ]
     },
     "metadata": {
      "needs_background": "light"
     },
     "output_type": "display_data"
    }
   ],
   "source": [
    "# with plt.style.context(['science', 'notebook']):\n",
    "plt.plot(energy_history)\n",
    "plt.title='Policy Iteration using K-Spin Hamiltonian'\n",
    "plt.xlabel='Number of iterations'\n",
    "plt.ylabel='Energy'"
   ]
  },
  {
   "cell_type": "code",
   "execution_count": 1115,
   "metadata": {},
   "outputs": [
    {
     "data": {
      "image/png": "[encoded data removed]",
      "text/plain": [
       "<Figure size 432x288 with 2 Axes>"
      ]
     },
     "metadata": {
      "needs_background": "light"
     },
     "output_type": "display_data"
    }
   ],
   "source": [
    "result = spins[0].data.reshape(s, a).detach().numpy()\n",
    "ax = sns.heatmap(result, cmap=\"Blues\")\n",
    "plt.xlabel = 'States'\n",
    "plt.show()"
   ]
  },
  {
   "cell_type": "code",
   "execution_count": 1110,
   "metadata": {},
   "outputs": [
    {
     "data": {
      "text/plain": [
       "tensor([[2., 2., 2., 3., 0.],\n",
       "        [2., 1., 3., 2., 0.],\n",
       "        [1., 0., 1., 3., 1.],\n",
       "        [2., 2., 1., 2., 2.],\n",
       "        [3., 0., 0., 3., 1.]])"
      ]
     },
     "execution_count": 1110,
     "metadata": {},
     "output_type": "execute_result"
    }
   ],
   "source": [
    "policy = torch.empty(s)\n",
    "p = torch.tensor(result)\n",
    "for i in range(s):\n",
    "    policy[i] = torch.argmax(p[i, :])\n",
    "policy.reshape(5, 5)"
   ]
  },
  {
   "cell_type": "code",
   "execution_count": 1060,
   "metadata": {},
   "outputs": [
    {
     "data": {
      "text/plain": [
       "<matplotlib.axes._subplots.AxesSubplot at 0x1a334d4cd0>"
      ]
     },
     "execution_count": 1060,
     "metadata": {},
     "output_type": "execute_result"
    },
    {
     "data": {
      "image/png": "[encoded data removed]",
      "text/plain": [
       "<Figure size 432x288 with 2 Axes>"
      ]
     },
     "metadata": {
      "needs_background": "light"
     },
     "output_type": "display_data"
    }
   ],
   "source": [
    "sns.heatmap(target, cmap='Blues')"
   ]
  },
  {
   "cell_type": "code",
   "execution_count": null,
   "metadata": {},
   "outputs": [],
   "source": []
  }
 ],
 "metadata": {
  "kernelspec": {
   "display_name": "Python 3",
   "language": "python",
   "name": "python3"
  },
  "language_info": {
   "codemirror_mode": {
    "name": "ipython",
    "version": 3
   },
   "file_extension": ".py",
   "mimetype": "text/x-python",
   "name": "python",
   "nbconvert_exporter": "python",
   "pygments_lexer": "ipython3",
   "version": "3.7.6"
  }
 },
 "nbformat": 4,
 "nbformat_minor": 4
}
