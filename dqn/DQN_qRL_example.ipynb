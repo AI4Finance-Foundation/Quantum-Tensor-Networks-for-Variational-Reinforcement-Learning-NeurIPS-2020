{
 "cells": [
  {
   "cell_type": "code",
   "execution_count": 1,
   "metadata": {},
   "outputs": [
    {
     "name": "stderr",
     "output_type": "stream",
     "text": [
      "/home/ubuntu/anaconda3/lib/python3.6/site-packages/statsmodels/tools/_testing.py:19: FutureWarning: pandas.util.testing is deprecated. Use the functions in the public API at pandas.testing instead.\n",
      "  import pandas.util.testing as tm\n"
     ]
    }
   ],
   "source": [
    "import torch\n",
    "import torch.optim as optim\n",
    "\n",
    "import numpy as np\n",
    "import matplotlib.pyplot as plt\n",
    "import matplotlib.pyplot as plt\n",
    "from mpl_toolkits.mplot3d import Axes3D\n",
    "from matplotlib import cm\n",
    "#plt.style.use(['notebook'])\n",
    "import seaborn as sns\n",
    "import pkbar\n",
    "import time\n",
    "import random\n",
    "\n",
    "import tensorly as tl\n",
    "from tensorly.decomposition import matrix_product_state, parafac\n",
    "from tensorly.mps_tensor import mps_to_tensor\n",
    "from tensorly.base import unfold, fold\n",
    "from tensorly.kruskal_tensor import kruskal_to_tensor\n",
    "tl.set_backend('pytorch')\n",
    "\n",
    "import tensornetwork as tn\n",
    "from tensornetwork import contractors\n",
    "backend = 'pytorch'"
   ]
  },
  {
   "cell_type": "markdown",
   "metadata": {},
   "source": [
    "## Grid World Setup"
   ]
  },
  {
   "cell_type": "code",
   "execution_count": 2,
   "metadata": {},
   "outputs": [],
   "source": [
    "s, a = 25, 4\n",
    "\n",
    "# states: scan from left to right\n",
    "# actions: left, right, top, down\n",
    "# in a reward of 10 and 5\n",
    "\n",
    "R = torch.zeros((s, a)) \n",
    "for i in range(s):\n",
    "    if i % 5 == 0:\n",
    "        R[i, 0] = -1\n",
    "    if (i - 4) % 5 == 0:\n",
    "        R[i, 1] = -1\n",
    "    if i in range(5):\n",
    "        R[i, 2] = -1\n",
    "    if i in range(s - 5, s):\n",
    "        R[i, 3] = -1\n",
    "R[1, :] = 10\n",
    "R[3, :] = 5\n",
    "\n",
    "R_vec = R.reshape(s * a)"
   ]
  },
  {
   "cell_type": "code",
   "execution_count": 3,
   "metadata": {},
   "outputs": [
    {
     "data": {
      "text/plain": [
       "tensor([[-1.,  0., -1.,  0.],\n",
       "        [10., 10., 10., 10.],\n",
       "        [ 0.,  0., -1.,  0.],\n",
       "        [ 5.,  5.,  5.,  5.],\n",
       "        [ 0., -1., -1.,  0.],\n",
       "        [-1.,  0.,  0.,  0.],\n",
       "        [ 0.,  0.,  0.,  0.],\n",
       "        [ 0.,  0.,  0.,  0.],\n",
       "        [ 0.,  0.,  0.,  0.],\n",
       "        [ 0., -1.,  0.,  0.],\n",
       "        [-1.,  0.,  0.,  0.],\n",
       "        [ 0.,  0.,  0.,  0.],\n",
       "        [ 0.,  0.,  0.,  0.],\n",
       "        [ 0.,  0.,  0.,  0.],\n",
       "        [ 0., -1.,  0.,  0.],\n",
       "        [-1.,  0.,  0.,  0.],\n",
       "        [ 0.,  0.,  0.,  0.],\n",
       "        [ 0.,  0.,  0.,  0.],\n",
       "        [ 0.,  0.,  0.,  0.],\n",
       "        [ 0., -1.,  0.,  0.],\n",
       "        [-1.,  0.,  0., -1.],\n",
       "        [ 0.,  0.,  0., -1.],\n",
       "        [ 0.,  0.,  0., -1.],\n",
       "        [ 0.,  0.,  0., -1.],\n",
       "        [ 0., -1.,  0., -1.]])"
      ]
     },
     "execution_count": 3,
     "metadata": {},
     "output_type": "execute_result"
    }
   ],
   "source": [
    "R"
   ]
  },
  {
   "cell_type": "code",
   "execution_count": 4,
   "metadata": {},
   "outputs": [
    {
     "data": {
      "text/plain": [
       "tensor([-1.,  0., -1.,  0., 10., 10., 10., 10.,  0.,  0., -1.,  0.,  5.,  5.,\n",
       "         5.,  5.,  0., -1., -1.,  0., -1.,  0.,  0.,  0.,  0.,  0.,  0.,  0.,\n",
       "         0.,  0.,  0.,  0.,  0.,  0.,  0.,  0.,  0., -1.,  0.,  0., -1.,  0.,\n",
       "         0.,  0.,  0.,  0.,  0.,  0.,  0.,  0.,  0.,  0.,  0.,  0.,  0.,  0.,\n",
       "         0., -1.,  0.,  0., -1.,  0.,  0.,  0.,  0.,  0.,  0.,  0.,  0.,  0.,\n",
       "         0.,  0.,  0.,  0.,  0.,  0.,  0., -1.,  0.,  0., -1.,  0.,  0., -1.,\n",
       "         0.,  0.,  0., -1.,  0.,  0.,  0., -1.,  0.,  0.,  0., -1.,  0., -1.,\n",
       "         0., -1.])"
      ]
     },
     "execution_count": 4,
     "metadata": {},
     "output_type": "execute_result"
    }
   ],
   "source": [
    "R_vec"
   ]
  },
  {
   "cell_type": "code",
   "execution_count": 5,
   "metadata": {},
   "outputs": [],
   "source": [
    "# s_t, a, s_(t+1)\n",
    "P = torch.zeros((s, a, s)) \n",
    "for i in range(s):\n",
    "    if i % 5 == 0:\n",
    "        P[i, 0, i] = 1\n",
    "    if (i - 4) % 5 == 0:\n",
    "        P[i, 1, i] = 1\n",
    "    if i in range(5):\n",
    "        P[i, 2, i] = 1\n",
    "    if i in range(s - 5, s):\n",
    "        P[i, 3, i] = 1    \n",
    "\n",
    "    for j in range(s):\n",
    "        if j == i - 1:\n",
    "            P[i, 0, j] = 1\n",
    "        if j == i + 1:\n",
    "            P[i, 1, j] = 1\n",
    "        if j == i - 5:\n",
    "            P[i, 2, j] = 1\n",
    "        if j == i + 5:\n",
    "            P[i, 3, j] = 1\n",
    "    if i == 1:        \n",
    "        P[i, :, :] = 0\n",
    "        P[i, :, 21] = 1\n",
    "    if i == 3:\n",
    "        P[i, :, :] = 0\n",
    "        P[i, :, 13] = 1"
   ]
  },
  {
   "cell_type": "code",
   "execution_count": 6,
   "metadata": {},
   "outputs": [
    {
     "data": {
      "text/plain": [
       "tensor([[[1., 0., 0.,  ..., 0., 0., 0.],\n",
       "         [0., 1., 0.,  ..., 0., 0., 0.],\n",
       "         [1., 0., 0.,  ..., 0., 0., 0.],\n",
       "         [0., 0., 0.,  ..., 0., 0., 0.]],\n",
       "\n",
       "        [[0., 0., 0.,  ..., 0., 0., 0.],\n",
       "         [0., 0., 0.,  ..., 0., 0., 0.],\n",
       "         [0., 0., 0.,  ..., 0., 0., 0.],\n",
       "         [0., 0., 0.,  ..., 0., 0., 0.]],\n",
       "\n",
       "        [[0., 1., 0.,  ..., 0., 0., 0.],\n",
       "         [0., 0., 0.,  ..., 0., 0., 0.],\n",
       "         [0., 0., 1.,  ..., 0., 0., 0.],\n",
       "         [0., 0., 0.,  ..., 0., 0., 0.]],\n",
       "\n",
       "        ...,\n",
       "\n",
       "        [[0., 0., 0.,  ..., 0., 0., 0.],\n",
       "         [0., 0., 0.,  ..., 0., 1., 0.],\n",
       "         [0., 0., 0.,  ..., 0., 0., 0.],\n",
       "         [0., 0., 0.,  ..., 1., 0., 0.]],\n",
       "\n",
       "        [[0., 0., 0.,  ..., 1., 0., 0.],\n",
       "         [0., 0., 0.,  ..., 0., 0., 1.],\n",
       "         [0., 0., 0.,  ..., 0., 0., 0.],\n",
       "         [0., 0., 0.,  ..., 0., 1., 0.]],\n",
       "\n",
       "        [[0., 0., 0.,  ..., 0., 1., 0.],\n",
       "         [0., 0., 0.,  ..., 0., 0., 1.],\n",
       "         [0., 0., 0.,  ..., 0., 0., 0.],\n",
       "         [0., 0., 0.,  ..., 0., 0., 1.]]])"
      ]
     },
     "execution_count": 6,
     "metadata": {},
     "output_type": "execute_result"
    }
   ],
   "source": [
    "P"
   ]
  },
  {
   "cell_type": "code",
   "execution_count": 7,
   "metadata": {},
   "outputs": [],
   "source": [
    "P_mat = torch.empty((s, a, s, a))\n",
    "for ss in range(s):\n",
    "    for i in range(a):\n",
    "        P_mat[:, :, ss, i] = P[:, :, ss]\n",
    "P_mat = P_mat.reshape(s * a, s * a)"
   ]
  },
  {
   "cell_type": "code",
   "execution_count": 8,
   "metadata": {},
   "outputs": [
    {
     "data": {
      "text/plain": [
       "tensor([[1., 1., 1.,  ..., 0., 0., 0.],\n",
       "        [0., 0., 0.,  ..., 0., 0., 0.],\n",
       "        [1., 1., 1.,  ..., 0., 0., 0.],\n",
       "        ...,\n",
       "        [0., 0., 0.,  ..., 1., 1., 1.],\n",
       "        [0., 0., 0.,  ..., 0., 0., 0.],\n",
       "        [0., 0., 0.,  ..., 1., 1., 1.]])"
      ]
     },
     "execution_count": 8,
     "metadata": {},
     "output_type": "execute_result"
    }
   ],
   "source": [
    "P_mat"
   ]
  },
  {
   "cell_type": "code",
   "execution_count": 9,
   "metadata": {},
   "outputs": [],
   "source": [
    "target = torch.tensor(\n",
    " [[21.97748529, 24.4194281, 21.97748529, 19.4194281, 17.47748529],\n",
    " [19.77973676, 21.97748529, 19.77973676, 17.80176308, 16.02158677],\n",
    " [17.80176308, 19.77973676, 17.80176308, 16.02158677, 14.4194281],\n",
    " [16.02158677, 17.80176308, 16.02158677, 14.4194281, 12.97748529],\n",
    " [14.4194281, 16.02158677, 14.4194281, 12.97748529, 11.67973676]])"
   ]
  },
  {
   "cell_type": "code",
   "execution_count": 10,
   "metadata": {},
   "outputs": [],
   "source": [
    "def explore_env(trajectories, k, R, P, s, a):\n",
    "    seen = []\n",
    "    omega = torch.zeros([s * a] * k)\n",
    "    for t in range(trajectories):\n",
    "        indices = torch.empty(2 * k)\n",
    "        s_curr = np.random.randint(s)\n",
    "        for num in range(2 * k):\n",
    "            a_curr = np.random.randint(a)\n",
    "            if (s_curr, a_curr) in seen:\n",
    "                a_curr = np.random.randint(a)\n",
    "            s_next = torch.argmax(P[s_curr, a_curr])\n",
    "            indices[num] = s_curr * a + a_curr\n",
    "            seen.append((s_curr, a_curr))\n",
    "            s_next = s_curr\n",
    "        for r in range(k):\n",
    "            index = tuple(indices[r : r + k].to(int))\n",
    "            omega[index] = 1\n",
    "    return omega"
   ]
  },
  {
   "cell_type": "code",
   "execution_count": 11,
   "metadata": {},
   "outputs": [
    {
     "data": {
      "text/plain": [
       "tensor([[21.9775, 24.4194, 21.9775, 19.4194, 17.4775],\n",
       "        [19.7797, 21.9775, 19.7797, 17.8018, 16.0216],\n",
       "        [17.8018, 19.7797, 17.8018, 16.0216, 14.4194],\n",
       "        [16.0216, 17.8018, 16.0216, 14.4194, 12.9775],\n",
       "        [14.4194, 16.0216, 14.4194, 12.9775, 11.6797]])"
      ]
     },
     "execution_count": 11,
     "metadata": {},
     "output_type": "execute_result"
    }
   ],
   "source": [
    "target"
   ]
  },
  {
   "cell_type": "code",
   "execution_count": 12,
   "metadata": {},
   "outputs": [],
   "source": [
    "def explore(Q, a, eps, ss):\n",
    "    choice = np.random.uniform()\n",
    "    if choice < eps:\n",
    "        return np.random.randint(a)\n",
    "    else:\n",
    "        return np.argmax(Q[ss])\n",
    "\n",
    "def Q_learning(five_tuple, lr=0.05, epochs=5000, gamma=0.5):\n",
    "    Q_history = []\n",
    "    Q = np.zeros((s, a))\n",
    "    ss = np.random.randint(s)\n",
    "    aa = np.random.randint(a)\n",
    "    \n",
    "    for _ in range(epochs):    \n",
    "        Q_history.append(np.sum(Q))\n",
    "        new_s = np.argmax(P[ss, aa])\n",
    "        Q[ss, aa] += lr * (R[ss, aa] + gamma * np.max(Q[new_s, :]) - Q[ss, aa])\n",
    "        ss = new_s.item()\n",
    "        aa = explore(Q, a, 0.2, ss)\n",
    "            \n",
    "    return Q, Q_history"
   ]
  },
  {
   "cell_type": "code",
   "execution_count": null,
   "metadata": {},
   "outputs": [],
   "source": []
  },
  {
   "cell_type": "code",
   "execution_count": 14,
   "metadata": {},
   "outputs": [],
   "source": [
    "k = 3\n",
    "s, a = 25, 4\n",
    "gamma = 0.9\n",
    "chi = 10\n",
    "omega = explore_env(10000, k, R, P, s, a)\n",
    "# omega = torch.ones([s * a] * k)\n",
    "five_tuple = s, a, P_mat, R_vec, gamma "
   ]
  },
  {
   "cell_type": "code",
   "execution_count": 15,
   "metadata": {},
   "outputs": [
    {
     "data": {
      "image/png": "[encoded data removed]",
      "text/plain": [
       "<matplotlib.figure.Figure at 0x7f67fbd124e0>"
      ]
     },
     "metadata": {
      "needs_background": "light"
     },
     "output_type": "display_data"
    }
   ],
   "source": [
    "Q, Q_hist = Q_learning(five_tuple)\n",
    "ax = sns.heatmap(Q, cmap=\"Blues\")\n",
    "plt.show()"
   ]
  },
  {
   "cell_type": "code",
   "execution_count": 16,
   "metadata": {},
   "outputs": [
    {
     "name": "stderr",
     "output_type": "stream",
     "text": [
      "/home/ubuntu/anaconda3/lib/python3.6/site-packages/matplotlib/axes/_axes.py:545: UserWarning: No labelled objects found. Use label='...' kwarg on individual plots.\n",
      "  warnings.warn(\"No labelled objects found. \"\n"
     ]
    },
    {
     "data": {
      "image/png": "[encoded data removed]",
      "text/plain": [
       "<matplotlib.figure.Figure at 0x7f677628ff28>"
      ]
     },
     "metadata": {
      "needs_background": "light"
     },
     "output_type": "display_data"
    }
   ],
   "source": [
    "Q, Q_hist = Q_learning(five_tuple, lr=0.5, epochs=50000)\n",
    "plt.plot(Q_hist)\n",
    "plt.legend()"
   ]
  },
  {
   "cell_type": "code",
   "execution_count": 17,
   "metadata": {},
   "outputs": [
    {
     "data": {
      "text/plain": [
       "tensor([[1., 3., 0., 0., 0.],\n",
       "        [1., 2., 0., 0., 2.],\n",
       "        [2., 2., 2., 0., 2.],\n",
       "        [2., 2., 2., 0., 0.],\n",
       "        [1., 2., 2., 0., 0.]])"
      ]
     },
     "execution_count": 17,
     "metadata": {},
     "output_type": "execute_result"
    }
   ],
   "source": [
    "policy = torch.empty(s)\n",
    "p = torch.tensor(Q)\n",
    "for i in range(s):\n",
    "    policy[i] = torch.argmax(p[i, :])\n",
    "policy.reshape(5, 5)"
   ]
  },
  {
   "cell_type": "code",
   "execution_count": 18,
   "metadata": {},
   "outputs": [
    {
     "data": {
      "text/plain": [
       "tensor([[1., 1., 1.,  ..., 0., 0., 0.],\n",
       "        [0., 0., 0.,  ..., 0., 0., 0.],\n",
       "        [1., 1., 1.,  ..., 0., 0., 0.],\n",
       "        ...,\n",
       "        [0., 0., 0.,  ..., 1., 1., 1.],\n",
       "        [0., 0., 0.,  ..., 0., 0., 0.],\n",
       "        [0., 0., 0.,  ..., 1., 1., 1.]])"
      ]
     },
     "execution_count": 18,
     "metadata": {},
     "output_type": "execute_result"
    }
   ],
   "source": [
    "P_mat"
   ]
  },
  {
   "cell_type": "code",
   "execution_count": 19,
   "metadata": {},
   "outputs": [
    {
     "data": {
      "text/plain": [
       "tensor([-1.,  0., -1.,  0., 10., 10., 10., 10.,  0.,  0., -1.,  0.,  5.,  5.,\n",
       "         5.,  5.,  0., -1., -1.,  0., -1.,  0.,  0.,  0.,  0.,  0.,  0.,  0.,\n",
       "         0.,  0.,  0.,  0.,  0.,  0.,  0.,  0.,  0., -1.,  0.,  0., -1.,  0.,\n",
       "         0.,  0.,  0.,  0.,  0.,  0.,  0.,  0.,  0.,  0.,  0.,  0.,  0.,  0.,\n",
       "         0., -1.,  0.,  0., -1.,  0.,  0.,  0.,  0.,  0.,  0.,  0.,  0.,  0.,\n",
       "         0.,  0.,  0.,  0.,  0.,  0.,  0., -1.,  0.,  0., -1.,  0.,  0., -1.,\n",
       "         0.,  0.,  0., -1.,  0.,  0.,  0., -1.,  0.,  0.,  0., -1.,  0., -1.,\n",
       "         0., -1.])"
      ]
     },
     "execution_count": 19,
     "metadata": {},
     "output_type": "execute_result"
    }
   ],
   "source": [
    "R_vec"
   ]
  },
  {
   "cell_type": "code",
   "execution_count": null,
   "metadata": {},
   "outputs": [],
   "source": []
  },
  {
   "cell_type": "code",
   "execution_count": 20,
   "metadata": {},
   "outputs": [],
   "source": [
    "from DQN import ReplayMemory, Transition, hidden_unit, Q_learning\n",
    "from torch.autograd import Variable\n",
    "from gridworld import *\n",
    "import torch.optim as optim\n",
    "import torch\n"
   ]
  },
  {
   "cell_type": "code",
   "execution_count": 21,
   "metadata": {},
   "outputs": [],
   "source": [
    "epochs = 1000\n",
    "gamma = 0.9 #since it may take several moves to goal, making gamma high\n",
    "epsilon = 1\n",
    "model = Q_learning(64, [150,150], 4, hidden_unit)\n",
    "optimizer = optim.RMSprop(model.parameters(), lr = 1e-2)\n",
    "# optimizer = optim.SGD(model.parameters(), lr = 0.1, momentum = 0)\n",
    "criterion = torch.nn.MSELoss()\n",
    "buffer = 80\n",
    "BATCH_SIZE = 40\n",
    "memory = ReplayMemory(buffer)   "
   ]
  },
  {
   "cell_type": "code",
   "execution_count": 22,
   "metadata": {},
   "outputs": [
    {
     "name": "stdout",
     "output_type": "stream",
     "text": [
      "Game #: 999\r"
     ]
    }
   ],
   "source": [
    "for i in range(epochs):\n",
    "    state = initGridPlayer()\n",
    "    status = 1\n",
    "    step = 0\n",
    "    #while game still in progress\n",
    "    while(status == 1):   \n",
    "        v_state = Variable(torch.from_numpy(state)).view(1,-1)\n",
    "        qval = model(v_state)\n",
    "        if (np.random.random() < epsilon): #choose random action\n",
    "            action = np.random.randint(0,4)\n",
    "        else: #choose best action from Q(s,a) values\n",
    "            action = np.argmax(qval.data)\n",
    "        #Take action, observe new state S'\n",
    "        new_state = makeMove(state, action)\n",
    "        step +=1\n",
    "        v_new_state = Variable(torch.from_numpy(new_state)).view(1,-1)\n",
    "        #Observe reward\n",
    "        reward = getReward(new_state)\n",
    "        memory.push(v_state.data, action, v_new_state.data, reward)\n",
    "        if (len(memory) < buffer): #if buffer not filled, add to it\n",
    "            state = new_state\n",
    "            if reward != -1: #if reached terminal state, update game status\n",
    "                break\n",
    "            else:\n",
    "                continue\n",
    "        transitions = memory.sample(BATCH_SIZE)\n",
    "        batch = Transition(*zip(*transitions))\n",
    "        state_batch = Variable(torch.cat(batch.state))\n",
    "        action_batch = Variable(torch.LongTensor(batch.action)).view(-1,1)\n",
    "        new_state_batch = Variable(torch.cat(batch.new_state))\n",
    "        reward_batch = Variable(torch.FloatTensor(batch.reward))\n",
    "        non_final_mask = (reward_batch == -1)\n",
    "        #Let's run our Q function on S to get Q values for all possible actions\n",
    "        qval_batch = model(state_batch)\n",
    "        # we only grad descent on the qval[action], leaving qval[not action] unchanged\n",
    "        state_action_values = qval_batch.gather(1, action_batch)\n",
    "        #Get max_Q(S',a)\n",
    "        with torch.no_grad():\n",
    "            newQ = model(new_state_batch)\n",
    "        maxQ = newQ.max(1)[0]\n",
    "#         if reward == -1: #non-terminal state\n",
    "#             update = (reward + (gamma * maxQ))\n",
    "#         else: #terminal state\n",
    "#             update = reward + 0*maxQ\n",
    "#         y = reward_batch + (reward_batch == -1).float() * gamma *maxQ\n",
    "        y = reward_batch\n",
    "        y[non_final_mask] += gamma * maxQ[non_final_mask]\n",
    "        y = y.view(-1,1)\n",
    "        print(\"Game #: %s\" % (i,), end='\\r')\n",
    "        loss = criterion(state_action_values, y)\n",
    "        # Optimize the model\n",
    "        optimizer.zero_grad()\n",
    "        loss.backward()\n",
    "        for p in model.parameters():\n",
    "            p.grad.data.clamp_(-1, 1)\n",
    "        optimizer.step()\n",
    "        state = new_state\n",
    "        if reward != -1:\n",
    "            status = 0\n",
    "        if step >20:\n",
    "            break\n",
    "    if epsilon > 0.1:\n",
    "        epsilon -= (1/epochs)"
   ]
  },
  {
   "cell_type": "code",
   "execution_count": 27,
   "metadata": {},
   "outputs": [
    {
     "name": "stdout",
     "output_type": "stream",
     "text": [
      "Initial State:\n",
      "[[' ' ' ' ' ' ' ']\n",
      " ['P' '-' '+' ' ']\n",
      " [' ' ' ' 'W' ' ']\n",
      " [' ' ' ' ' ' ' ']]\n",
      "tensor([[ 4.5773,  1.7455,  3.0706, -6.2458]], grad_fn=<AddmmBackward>)\n",
      "Move #: 0; Taking action: tensor(0)\n",
      "[['P' ' ' ' ' ' ']\n",
      " [' ' '-' '+' ' ']\n",
      " [' ' ' ' 'W' ' ']\n",
      " [' ' ' ' ' ' ' ']]\n",
      "tensor([[5.0168, 1.5092, 4.5646, 6.2072]], grad_fn=<AddmmBackward>)\n",
      "Move #: 1; Taking action: tensor(3)\n",
      "[[' ' 'P' ' ' ' ']\n",
      " [' ' '-' '+' ' ']\n",
      " [' ' ' ' 'W' ' ']\n",
      " [' ' ' ' ' ' ' ']]\n",
      "tensor([[ 6.6429, -6.7476,  4.5527,  8.0089]], grad_fn=<AddmmBackward>)\n",
      "Move #: 2; Taking action: tensor(3)\n",
      "[[' ' ' ' 'P' ' ']\n",
      " [' ' '-' '+' ' ']\n",
      " [' ' ' ' 'W' ' ']\n",
      " [' ' ' ' ' ' ' ']]\n",
      "tensor([[7.9861, 9.9781, 6.5986, 6.5172]], grad_fn=<AddmmBackward>)\n",
      "Move #: 3; Taking action: tensor(1)\n",
      "[[' ' ' ' ' ' ' ']\n",
      " [' ' '-' ' ' ' ']\n",
      " [' ' ' ' 'W' ' ']\n",
      " [' ' ' ' ' ' ' ']]\n",
      "Reward: 10\n"
     ]
    }
   ],
   "source": [
    "## Here is the test of AI\n",
    "def testAlgo(init=0):\n",
    "    i = 0\n",
    "    if init==0:\n",
    "        state = initGrid()\n",
    "    elif init==1:\n",
    "        state = initGridPlayer()\n",
    "    elif init==2:\n",
    "        state = initGridRand()\n",
    "\n",
    "    print(\"Initial State:\")\n",
    "    print(dispGrid(state))\n",
    "    status = 1\n",
    "    #while game still in progress\n",
    "    while(status == 1):\n",
    "        v_state = Variable(torch.from_numpy(state))\n",
    "        qval = model(v_state.view(64))\n",
    "        print(qval)\n",
    "        action = np.argmax(qval.data) #take action with highest Q-value\n",
    "        print('Move #: %s; Taking action: %s' % (i, action))\n",
    "        state = makeMove(state, action)\n",
    "        print(dispGrid(state))\n",
    "        reward = getReward(state)\n",
    "        if reward != -1:\n",
    "            status = 0\n",
    "            print(\"Reward: %s\" % (reward,))\n",
    "        i += 1 #If we're taking more than 10 actions, just stop, we probably can't win this game\n",
    "        if (i > 10):\n",
    "            print(\"Game lost; too many moves.\")\n",
    "            break\n",
    "\n",
    "\n",
    "testAlgo(init=1)"
   ]
  },
  {
   "cell_type": "code",
   "execution_count": null,
   "metadata": {},
   "outputs": [],
   "source": []
  }
 ],
 "metadata": {
  "kernelspec": {
   "display_name": "Python 3",
   "language": "python",
   "name": "python3"
  },
  "language_info": {
   "codemirror_mode": {
    "name": "ipython",
    "version": 3
   },
   "file_extension": ".py",
   "mimetype": "text/x-python",
   "name": "python",
   "nbconvert_exporter": "python",
   "pygments_lexer": "ipython3",
   "version": "3.6.9"
  }
 },
 "nbformat": 4,
 "nbformat_minor": 4
}
