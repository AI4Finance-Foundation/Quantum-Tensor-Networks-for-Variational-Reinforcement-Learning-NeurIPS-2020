{
 "cells": [
  {
   "cell_type": "code",
   "execution_count": 1,
   "metadata": {},
   "outputs": [],
   "source": [
    "import torch\n",
    "import torch.optim as optim\n",
    "\n",
    "import numpy as np\n",
    "import matplotlib.pyplot as plt\n",
    "from matplotlib import cm\n",
    "import seaborn as sns\n",
    "import pkbar\n",
    "import time\n",
    "import warnings\n",
    "warnings.filterwarnings('ignore')\n",
    "\n",
    "from VRL import *"
   ]
  },
  {
   "cell_type": "code",
   "execution_count": 2,
   "metadata": {},
   "outputs": [],
   "source": [
    "# initialize parameters\n",
    "\n",
    "s, a = 25, 4\n",
    "k, gamma, chi = 3, 0.8, 50\n",
    "R, R_vec = initialize_R(s, a)\n",
    "P, P_mat = initialize_P(s, a)\n",
    "five_tuple = s, a, P_mat, R_vec, gamma"
   ]
  },
  {
   "cell_type": "code",
   "execution_count": 3,
   "metadata": {},
   "outputs": [],
   "source": [
    "# explore the environment\n",
    "\n",
    "omega = explore_env(1500, k, R, P, s, a)"
   ]
  },
  {
   "cell_type": "code",
   "execution_count": 4,
   "metadata": {
    "scrolled": true
   },
   "outputs": [
    {
     "name": "stdout",
     "output_type": "stream",
     "text": [
      "initialize H, k=1\n",
      "100/100  [==============================] - 0.1s\n",
      "initialize H, k=2\n",
      "100/100  [==============================] - 0.2s\n",
      "initialize H, k=3\n",
      "100/100  [==============================] - 15.8s\n"
     ]
    }
   ],
   "source": [
    "# build the model\n",
    "\n",
    "H, cores, data, error = build_network(five_tuple, k, chi, omega)"
   ]
  },
  {
   "cell_type": "code",
   "execution_count": 5,
   "metadata": {},
   "outputs": [
    {
     "name": "stdout",
     "output_type": "stream",
     "text": [
      "progress\n",
      "10000/10000  [==============================] - 78.0s\n"
     ]
    }
   ],
   "source": [
    "# train the model\n",
    "\n",
    "spin, energy_history = VRL_train(five_tuple, k, data, cores, lr=0.0001, epochs=10000)"
   ]
  },
  {
   "cell_type": "code",
   "execution_count": 6,
   "metadata": {},
   "outputs": [
    {
     "data": {
      "text/plain": [
       "[<matplotlib.lines.Line2D at 0x1a2e006590>]"
      ]
     },
     "execution_count": 6,
     "metadata": {},
     "output_type": "execute_result"
    },
    {
     "data": {
      "image/png": "[encoded data removed]",
      "text/plain": [
       "<Figure size 432x288 with 1 Axes>"
      ]
     },
     "metadata": {
      "needs_background": "light"
     },
     "output_type": "display_data"
    }
   ],
   "source": [
    "# visualize the energy minimiation process\n",
    "\n",
    "plt.plot(energy_history)"
   ]
  },
  {
   "cell_type": "code",
   "execution_count": 7,
   "metadata": {},
   "outputs": [
    {
     "data": {
      "image/png": "[encoded data removed]",
      "text/plain": [
       "<Figure size 432x288 with 2 Axes>"
      ]
     },
     "metadata": {
      "needs_background": "light"
     },
     "output_type": "display_data"
    },
    {
     "data": {
      "text/plain": [
       "tensor([[1., 3., 0., 0., 0.],\n",
       "        [1., 2., 2., 2., 0.],\n",
       "        [1., 2., 0., 2., 0.],\n",
       "        [1., 2., 2., 2., 0.],\n",
       "        [2., 2., 2., 2., 2.]])"
      ]
     },
     "execution_count": 7,
     "metadata": {},
     "output_type": "execute_result"
    }
   ],
   "source": [
    "# retrieve the resulting policy\n",
    "\n",
    "result = spin[0].data.reshape(s, a).detach().numpy()\n",
    "ax = sns.heatmap(result, cmap=\"Blues\")\n",
    "plt.xlabel = 'States'\n",
    "plt.show()\n",
    "\n",
    "policy = torch.empty(s)\n",
    "p = torch.tensor(result)\n",
    "for i in range(s):\n",
    "    policy[i] = torch.argmax(p[i, :])\n",
    "policy.reshape(5, 5)"
   ]
  }
 ],
 "metadata": {
  "kernelspec": {
   "display_name": "Python 3",
   "language": "python",
   "name": "python3"
  },
  "language_info": {
   "codemirror_mode": {
    "name": "ipython",
    "version": 3
   },
   "file_extension": ".py",
   "mimetype": "text/x-python",
   "name": "python",
   "nbconvert_exporter": "python",
   "pygments_lexer": "ipython3",
   "version": "3.7.6"
  }
 },
 "nbformat": 4,
 "nbformat_minor": 4
}
